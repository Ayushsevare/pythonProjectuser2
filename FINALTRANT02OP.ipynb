{
  "nbformat": 4,
  "nbformat_minor": 0,
  "metadata": {
    "colab": {
      "provenance": [],
      "authorship_tag": "ABX9TyOy9g62iPESAUVmn8pSfT4n",
      "include_colab_link": true
    },
    "kernelspec": {
      "name": "python3",
      "display_name": "Python 3"
    },
    "language_info": {
      "name": "python"
    }
  },
  "cells": [
    {
      "cell_type": "markdown",
      "metadata": {
        "id": "view-in-github",
        "colab_type": "text"
      },
      "source": [
        "<a href=\"https://colab.research.google.com/github/Ayushsevare/pythonProjectuser2/blob/master/FINALTRANT02OP.ipynb\" target=\"_parent\"><img src=\"https://colab.research.google.com/assets/colab-badge.svg\" alt=\"Open In Colab\"/></a>"
      ]
    },
    {
      "cell_type": "code",
      "execution_count": null,
      "metadata": {
        "id": "3Ywx6eVcHEpP"
      },
      "outputs": [],
      "source": [
        "import numpy as np \n",
        "import pandas as pd "
      ]
    },
    {
      "cell_type": "code",
      "source": [
        "path= pd.read_csv('/content/final_transaction_top.csv')"
      ],
      "metadata": {
        "id": "uiTUo9M4HTZm"
      },
      "execution_count": null,
      "outputs": []
    },
    {
      "cell_type": "code",
      "source": [
        "print(\"initial data\")\n",
        "print(path.head())"
      ],
      "metadata": {
        "colab": {
          "base_uri": "https://localhost:8080/"
        },
        "id": "i1glz4P8HdPN",
        "outputId": "99a3ffdb-18ac-4889-8b1f-7d6c2bbb9920"
      },
      "execution_count": null,
      "outputs": [
        {
          "output_type": "stream",
          "name": "stdout",
          "text": [
            "initial data\n",
            "   Unnamed: 0                entityName                      state  year  \\\n",
            "0           0             south andaman  andaman-&-nicobar-islands  2018   \n",
            "1           1                  nicobars  andaman-&-nicobar-islands  2018   \n",
            "2           2  north and middle andaman  andaman-&-nicobar-islands  2018   \n",
            "3           3                    744101  andaman-&-nicobar-islands  2018   \n",
            "4           4                    744103  andaman-&-nicobar-islands  2018   \n",
            "\n",
            "   quarter  count        amount  \n",
            "0        1   5688  1.256025e+07  \n",
            "1        1    528  1.139849e+06  \n",
            "2        1    442  9.316631e+05  \n",
            "3        1   1622  2.769298e+06  \n",
            "4        1   1223  2.238042e+06  \n"
          ]
        }
      ]
    },
    {
      "cell_type": "code",
      "source": [
        "print(\"Missing values:\")\n",
        "print(path.isnull().sum())\n",
        "     "
      ],
      "metadata": {
        "colab": {
          "base_uri": "https://localhost:8080/"
        },
        "id": "XNTv13o0HrMm",
        "outputId": "b348e694-738f-4083-b134-f5472a81ec25"
      },
      "execution_count": null,
      "outputs": [
        {
          "output_type": "stream",
          "name": "stdout",
          "text": [
            "Missing values:\n",
            "Unnamed: 0    0\n",
            "entityName    2\n",
            "state         0\n",
            "year          0\n",
            "quarter       0\n",
            "count         0\n",
            "amount        0\n",
            "dtype: int64\n"
          ]
        }
      ]
    },
    {
      "cell_type": "code",
      "source": [
        "path = path.dropna()"
      ],
      "metadata": {
        "id": "_lj0unLuIQU1"
      },
      "execution_count": null,
      "outputs": []
    },
    {
      "cell_type": "code",
      "source": [
        "path['entityName'] = path['entityName'].str.strip()\n",
        "path['state'] = path['state'].str.strip()"
      ],
      "metadata": {
        "id": "dJtevIpVITqo"
      },
      "execution_count": null,
      "outputs": []
    },
    {
      "cell_type": "code",
      "source": [
        "print(\"initial data\")\n",
        "print(path.head())"
      ],
      "metadata": {
        "colab": {
          "base_uri": "https://localhost:8080/"
        },
        "id": "dbwtGKNfKxjj",
        "outputId": "78cfd14f-3cd7-456c-ff90-5a49b7f0a957"
      },
      "execution_count": null,
      "outputs": [
        {
          "output_type": "stream",
          "name": "stdout",
          "text": [
            "initial data\n",
            "   Unnamed: 0                entityName                      state  year  \\\n",
            "0           0             south andaman  andaman-&-nicobar-islands  2018   \n",
            "1           1                  nicobars  andaman-&-nicobar-islands  2018   \n",
            "2           2  north and middle andaman  andaman-&-nicobar-islands  2018   \n",
            "3           3                    744101  andaman-&-nicobar-islands  2018   \n",
            "4           4                    744103  andaman-&-nicobar-islands  2018   \n",
            "\n",
            "   quarter  count        amount  \n",
            "0        1   5688  1.256025e+07  \n",
            "1        1    528  1.139849e+06  \n",
            "2        1    442  9.316631e+05  \n",
            "3        1   1622  2.769298e+06  \n",
            "4        1   1223  2.238042e+06  \n"
          ]
        }
      ]
    },
    {
      "cell_type": "code",
      "source": [
        "print(\"Cleaned dataset:\")\n",
        "print(path.head())"
      ],
      "metadata": {
        "colab": {
          "base_uri": "https://localhost:8080/"
        },
        "id": "h1cK0mh9K2Yq",
        "outputId": "e34218d4-87fb-4843-fe33-6e8b8fdf8b5b"
      },
      "execution_count": null,
      "outputs": [
        {
          "output_type": "stream",
          "name": "stdout",
          "text": [
            "Cleaned dataset:\n",
            "   Unnamed: 0                entityName                      state  year  \\\n",
            "0           0             south andaman  andaman-&-nicobar-islands  2018   \n",
            "1           1                  nicobars  andaman-&-nicobar-islands  2018   \n",
            "2           2  north and middle andaman  andaman-&-nicobar-islands  2018   \n",
            "3           3                    744101  andaman-&-nicobar-islands  2018   \n",
            "4           4                    744103  andaman-&-nicobar-islands  2018   \n",
            "\n",
            "   quarter  count        amount  \n",
            "0        1   5688  1.256025e+07  \n",
            "1        1    528  1.139849e+06  \n",
            "2        1    442  9.316631e+05  \n",
            "3        1   1622  2.769298e+06  \n",
            "4        1   1223  2.238042e+06  \n"
          ]
        }
      ]
    },
    {
      "cell_type": "code",
      "source": [
        "print(path.describe())"
      ],
      "metadata": {
        "colab": {
          "base_uri": "https://localhost:8080/"
        },
        "id": "qMKcLEE5K9xx",
        "outputId": "3911878b-eb5a-48c7-941d-828f1dd0c932"
      },
      "execution_count": null,
      "outputs": [
        {
          "output_type": "stream",
          "name": "stdout",
          "text": [
            "         Unnamed: 0          year       quarter         count        amount\n",
            "count  11098.000000  11098.000000  11098.000000  1.109800e+04  1.109800e+04\n",
            "mean    5549.535412   2019.647234      2.411606  4.045318e+06  6.826993e+09\n",
            "std     3204.725978      1.233996      1.140558  1.881342e+07  2.857885e+10\n",
            "min        0.000000   2018.000000      1.000000  2.000000e+00  6.025276e+01\n",
            "25%     2774.250000   2019.000000      1.000000  4.927000e+04  1.021462e+08\n",
            "50%     5550.500000   2020.000000      2.000000  3.736385e+05  6.190229e+08\n",
            "75%     8324.750000   2021.000000      3.000000  2.140586e+06  3.551740e+09\n",
            "max    11099.000000   2022.000000      4.000000  6.483808e+08  8.379388e+11\n"
          ]
        }
      ]
    },
    {
      "cell_type": "code",
      "source": [
        "import pandas as pd\n",
        "from mlxtend.frequent_patterns import apriori, association_rules\n"
      ],
      "metadata": {
        "id": "FhM3hkLRLoKL"
      },
      "execution_count": null,
      "outputs": []
    },
    {
      "cell_type": "code",
      "source": [
        "path= pd.read_csv('/content/final_transaction_top.csv')"
      ],
      "metadata": {
        "id": "m2Jiwi5MLphc"
      },
      "execution_count": null,
      "outputs": []
    },
    {
      "cell_type": "code",
      "source": [
        "item_frequencies = path['entityName'].value_counts().reset_index().rename(columns={'index': 'entityName', 'entityName': 'frequency'})"
      ],
      "metadata": {
        "id": "bgulLV-YLwIJ"
      },
      "execution_count": null,
      "outputs": []
    },
    {
      "cell_type": "code",
      "source": [
        "item_frequencies = item_frequencies.sort_values('frequency', ascending=False)\n"
      ],
      "metadata": {
        "id": "q1OdhmldL9Jy"
      },
      "execution_count": null,
      "outputs": []
    },
    {
      "cell_type": "code",
      "source": [
        "print(item_frequencies)"
      ],
      "metadata": {
        "colab": {
          "base_uri": "https://localhost:8080/"
        },
        "id": "OTxYo2BtMB6a",
        "outputId": "65cd2e0a-2283-4de8-a9ad-b7740accdc27"
      },
      "execution_count": null,
      "outputs": [
        {
          "output_type": "stream",
          "name": "stdout",
          "text": [
            "       entityName  frequency\n",
            "0        bilaspur         34\n",
            "2            west         34\n",
            "3           north         34\n",
            "4           south         34\n",
            "1            east         34\n",
            "...           ...        ...\n",
            "954        759121          1\n",
            "953        742101          1\n",
            "952        796891          1\n",
            "951        832107          1\n",
            "1047  lower siang          1\n",
            "\n",
            "[1048 rows x 2 columns]\n"
          ]
        }
      ]
    },
    {
      "cell_type": "code",
      "source": [
        "one_hot_encoded = pd.get_dummies(path.set_index('entityName')['state'])"
      ],
      "metadata": {
        "id": "k910t3RJMHKi"
      },
      "execution_count": null,
      "outputs": []
    },
    {
      "cell_type": "code",
      "source": [
        "frequent_itemsets = apriori(one_hot_encoded, min_support=0.05, use_colnames=True)"
      ],
      "metadata": {
        "colab": {
          "base_uri": "https://localhost:8080/"
        },
        "id": "plWw-4X9MNRq",
        "outputId": "fcd4de6e-3ce7-433a-c620-f91b34f5ab9f"
      },
      "execution_count": null,
      "outputs": [
        {
          "output_type": "stream",
          "name": "stderr",
          "text": [
            "/usr/local/lib/python3.10/dist-packages/mlxtend/frequent_patterns/apriori.py:158: FutureWarning: The default dtype for empty Series will be 'object' instead of 'float64' in a future version. Specify a dtype explicitly to silence this warning.\n",
            "  itemsets = pd.Series([frozenset(i) for i in itemset_dict[k]])\n"
          ]
        }
      ]
    },
    {
      "cell_type": "code",
      "source": [
        "if len(frequent_itemsets) > 0:\n",
        "    association_rules = association_rules(frequent_itemsets, metric='confidence', min_threshold=0.5)\n",
        "else:\n",
        "    print(\"frequent_itemsets is empty. Please check your data.\")"
      ],
      "metadata": {
        "colab": {
          "base_uri": "https://localhost:8080/"
        },
        "id": "mFLjNQJhMRfK",
        "outputId": "09b2aa63-5dee-443b-9d83-fa23a53d09c8"
      },
      "execution_count": null,
      "outputs": [
        {
          "output_type": "stream",
          "name": "stdout",
          "text": [
            "frequent_itemsets is empty. Please check your data.\n"
          ]
        }
      ]
    },
    {
      "cell_type": "code",
      "source": [
        "print(association_rules)"
      ],
      "metadata": {
        "colab": {
          "base_uri": "https://localhost:8080/"
        },
        "id": "Vug6q6qZNLUh",
        "outputId": "1b7258ed-37ff-4ca5-d78b-d2d00582d9e3"
      },
      "execution_count": null,
      "outputs": [
        {
          "output_type": "stream",
          "name": "stdout",
          "text": [
            "<function association_rules at 0x7fafb1a2dab0>\n"
          ]
        }
      ]
    }
  ]
}