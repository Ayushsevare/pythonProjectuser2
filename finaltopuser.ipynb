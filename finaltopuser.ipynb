{
  "nbformat": 4,
  "nbformat_minor": 0,
  "metadata": {
    "colab": {
      "provenance": [],
      "authorship_tag": "ABX9TyNKu1G6KGDUM5lbP1I+x9IP",
      "include_colab_link": true
    },
    "kernelspec": {
      "name": "python3",
      "display_name": "Python 3"
    },
    "language_info": {
      "name": "python"
    }
  },
  "cells": [
    {
      "cell_type": "markdown",
      "metadata": {
        "id": "view-in-github",
        "colab_type": "text"
      },
      "source": [
        "<a href=\"https://colab.research.google.com/github/Ayushsevare/pythonProjectuser2/blob/master/finaltopuser.ipynb\" target=\"_parent\"><img src=\"https://colab.research.google.com/assets/colab-badge.svg\" alt=\"Open In Colab\"/></a>"
      ]
    },
    {
      "cell_type": "code",
      "execution_count": 1,
      "metadata": {
        "id": "ZGGqJBzYXEGT"
      },
      "outputs": [],
      "source": [
        "import numpy as np \n",
        "import pandas as pd "
      ]
    },
    {
      "cell_type": "code",
      "source": [
        "path = pd.read_csv('/content/final_top_user.csv')"
      ],
      "metadata": {
        "id": "OID_WiGbXXNd"
      },
      "execution_count": 2,
      "outputs": []
    },
    {
      "cell_type": "code",
      "source": [
        "print(path.head())"
      ],
      "metadata": {
        "colab": {
          "base_uri": "https://localhost:8080/"
        },
        "id": "xiVD2BLdXdiV",
        "outputId": "2f300cfd-087d-4cb5-900c-97799b565705"
      },
      "execution_count": 3,
      "outputs": [
        {
          "output_type": "stream",
          "name": "stdout",
          "text": [
            "   Unnamed: 0                      name  registeredUsers  \\\n",
            "0           0             south andaman             5846   \n",
            "1           1  north and middle andaman              632   \n",
            "2           2                  nicobars              262   \n",
            "3           3                    744103             1608   \n",
            "4           4                    744101             1108   \n",
            "\n",
            "                       state  year  quarter  \n",
            "0  andaman-&-nicobar-islands  2018        1  \n",
            "1  andaman-&-nicobar-islands  2018        1  \n",
            "2  andaman-&-nicobar-islands  2018        1  \n",
            "3  andaman-&-nicobar-islands  2018        1  \n",
            "4  andaman-&-nicobar-islands  2018        1  \n"
          ]
        }
      ]
    },
    {
      "cell_type": "code",
      "source": [
        "print(path.info())"
      ],
      "metadata": {
        "colab": {
          "base_uri": "https://localhost:8080/"
        },
        "id": "amDBexkQYt8e",
        "outputId": "ff68299a-5d3f-4071-9b46-e8733df2af23"
      },
      "execution_count": 6,
      "outputs": [
        {
          "output_type": "stream",
          "name": "stdout",
          "text": [
            "<class 'pandas.core.frame.DataFrame'>\n",
            "RangeIndex: 11101 entries, 0 to 11100\n",
            "Data columns (total 6 columns):\n",
            " #   Column           Non-Null Count  Dtype \n",
            "---  ------           --------------  ----- \n",
            " 0   Unnamed: 0       11101 non-null  int64 \n",
            " 1   name             11101 non-null  object\n",
            " 2   registeredUsers  11101 non-null  int64 \n",
            " 3   state            11101 non-null  object\n",
            " 4   year             11101 non-null  int64 \n",
            " 5   quarter          11101 non-null  int64 \n",
            "dtypes: int64(4), object(2)\n",
            "memory usage: 520.5+ KB\n",
            "None\n"
          ]
        }
      ]
    },
    {
      "cell_type": "code",
      "source": [
        "print(path.describe)"
      ],
      "metadata": {
        "colab": {
          "base_uri": "https://localhost:8080/"
        },
        "id": "Se8rHPItXhzP",
        "outputId": "ffd14327-616e-4c02-e603-dd6ef54b915a"
      },
      "execution_count": 7,
      "outputs": [
        {
          "output_type": "stream",
          "name": "stdout",
          "text": [
            "<bound method NDFrame.describe of        Unnamed: 0                      name  registeredUsers  \\\n",
            "0               0             south andaman             5846   \n",
            "1               1  north and middle andaman              632   \n",
            "2               2                  nicobars              262   \n",
            "3               3                    744103             1608   \n",
            "4               4                    744101             1108   \n",
            "...           ...                       ...              ...   \n",
            "11096       11096                    700015            93175   \n",
            "11097       11097                    742304            91059   \n",
            "11098       11098                    721101            90324   \n",
            "11099       11099                    700091            88432   \n",
            "11100       11100                    700150            87552   \n",
            "\n",
            "                           state  year  quarter  \n",
            "0      andaman-&-nicobar-islands  2018        1  \n",
            "1      andaman-&-nicobar-islands  2018        1  \n",
            "2      andaman-&-nicobar-islands  2018        1  \n",
            "3      andaman-&-nicobar-islands  2018        1  \n",
            "4      andaman-&-nicobar-islands  2018        1  \n",
            "...                          ...   ...      ...  \n",
            "11096                west-bengal  2022        1  \n",
            "11097                west-bengal  2022        1  \n",
            "11098                west-bengal  2022        1  \n",
            "11099                west-bengal  2022        1  \n",
            "11100                west-bengal  2022        1  \n",
            "\n",
            "[11101 rows x 6 columns]>\n"
          ]
        }
      ]
    },
    {
      "cell_type": "code",
      "source": [
        "print(path.isnull().sum())"
      ],
      "metadata": {
        "colab": {
          "base_uri": "https://localhost:8080/"
        },
        "id": "ko9re4NyY8OC",
        "outputId": "fe06cad0-7248-4590-bbd1-fc5ee17ce999"
      },
      "execution_count": 8,
      "outputs": [
        {
          "output_type": "stream",
          "name": "stdout",
          "text": [
            "Unnamed: 0         0\n",
            "name               0\n",
            "registeredUsers    0\n",
            "state              0\n",
            "year               0\n",
            "quarter            0\n",
            "dtype: int64\n"
          ]
        }
      ]
    },
    {
      "cell_type": "code",
      "source": [
        "path['year'] = path['year'].astype(int)"
      ],
      "metadata": {
        "id": "lZBThzoaZCa0"
      },
      "execution_count": 9,
      "outputs": []
    },
    {
      "cell_type": "code",
      "source": [
        "path = path[(path['registeredUsers'] > 0) & (path['registeredUsers'] < 100000)]"
      ],
      "metadata": {
        "id": "c2D2NTHFZna4"
      },
      "execution_count": 10,
      "outputs": []
    },
    {
      "cell_type": "code",
      "source": [
        "path.to_csv('cleaned_dataset.csv', index=False)"
      ],
      "metadata": {
        "id": "RuWD3quoZyJv"
      },
      "execution_count": 11,
      "outputs": []
    },
    {
      "cell_type": "code",
      "source": [
        "import scipy.stats as stats"
      ],
      "metadata": {
        "id": "MWPyq-NEZ7cW"
      },
      "execution_count": 12,
      "outputs": []
    },
    {
      "cell_type": "code",
      "source": [
        "path = pd.read_csv('/content/final_top_user.csv')"
      ],
      "metadata": {
        "id": "pqiIGEPIafFG"
      },
      "execution_count": 16,
      "outputs": []
    },
    {
      "cell_type": "code",
      "source": [
        "state_andaman_nicobar = path[path['state'] == 'andaman-&-nicobar-islands']['registeredUsers']\n",
        "state_andhra_pradesh = path[path['state'] == 'andhra-pradesh']['registeredUsers']\n",
        "state_arunachal_pradesh = path[path['state'] == 'arunachal-pradesh']['registeredUsers']\n",
        "state_assam = path[path['state'] == 'assam']['registeredUsers']\n",
        "state_bihar = path[path['state'] == 'bihar']['registeredUsers']\n",
        "state_chandigarh = path[path['state'] == 'chandigarh']['registeredUsers']\n",
        "state_chhattisgarh = path[path['state'] == 'chhattisgarh']['registeredUsers']\n",
        "state_dadra_nagar_haveli_daman_diu = path[path['state'] == 'dadra-&-nagar-haveli-&-daman-&-diu']['registeredUsers']\n",
        "state_delhi = path[path['state'] == 'delhi']['registeredUsers']\n",
        "state_goa = path[path['state'] == 'goa']['registeredUsers']\n",
        "state_gujarat = path[path['state'] == 'gujarat']['registeredUsers']\n",
        "state_haryana = path[path['state'] == 'haryana']['registeredUsers']\n",
        "state_himachal_pradesh = path[path['state'] == 'himachal-pradesh']['registeredUsers']\n",
        "state_jammu_kashmir = path[path['state'] == 'jammu-&-kashmir']['registeredUsers']\n",
        "state_jharkhand = path[path['state'] == 'jharkhand']['registeredUsers']\n",
        "state_karnataka = path[path['state'] == 'karnataka']['registeredUsers']\n",
        "state_kerala = path[path['state'] == 'kerala']['registeredUsers']\n",
        "state_ladakh = path[path['state'] == 'ladakh']['registeredUsers']\n",
        "state_lakshadweep = path[path['state'] == 'lakshadweep']['registeredUsers']\n",
        "state_madhya_pradesh = path[path['state'] == 'madhya-pradesh']['registeredUsers']\n",
        "state_maharashtra = path[path['state'] == 'maharashtra']['registeredUsers']\n",
        "state_manipur = path[path['state'] == 'manipur']['registeredUsers']\n",
        "state_meghalaya = path[path['state'] == 'meghalaya']['registeredUsers']\n",
        "state_mizoram = path[path['state'] == 'mizoram']['registeredUsers']\n",
        "state_nagaland = path[path['state'] == 'nagaland']['registeredUsers']\n",
        "state_odisha = path[path['state'] == 'odisha']['registeredUsers']\n"
      ],
      "metadata": {
        "id": "yDRnqeDmapP_"
      },
      "execution_count": 47,
      "outputs": []
    },
    {
      "cell_type": "code",
      "source": [
        "t_stat, p_value = stats.ttest_ind(state_mizoram, state_nagaland,)"
      ],
      "metadata": {
        "id": "sgkeYxLrloBq"
      },
      "execution_count": 48,
      "outputs": []
    },
    {
      "cell_type": "code",
      "source": [
        "print(\"T-Statistic:\", t_stat)\n",
        "print(\"P-Value:\", p_value)"
      ],
      "metadata": {
        "colab": {
          "base_uri": "https://localhost:8080/"
        },
        "id": "tfoTTikvsHko",
        "outputId": "8bcb7f3f-37d4-4493-e809-a510000fc71d"
      },
      "execution_count": 49,
      "outputs": [
        {
          "output_type": "stream",
          "name": "stdout",
          "text": [
            "T-Statistic: -5.270708815259468\n",
            "P-Value: 1.8566899305285395e-07\n"
          ]
        }
      ]
    },
    {
      "cell_type": "code",
      "source": [
        "confidence_interval = stats.t.interval(0.95, len(path)-1, loc=path['registeredUsers'].mean(), scale=stats.sem(path['registeredUsers']))\n",
        "\n"
      ],
      "metadata": {
        "id": "DdN68RjqsNBz"
      },
      "execution_count": 50,
      "outputs": []
    },
    {
      "cell_type": "code",
      "source": [
        "print(\"Confidence Interval:\", confidence_interval)"
      ],
      "metadata": {
        "colab": {
          "base_uri": "https://localhost:8080/"
        },
        "id": "dkABGD9Gsdku",
        "outputId": "aac9da6b-afe5-41ee-be86-9cead6365a94"
      },
      "execution_count": 51,
      "outputs": [
        {
          "output_type": "stream",
          "name": "stdout",
          "text": [
            "Confidence Interval: (237277.04317129066, 258596.77053918585)\n"
          ]
        }
      ]
    },
    {
      "cell_type": "code",
      "source": [
        "mapping = {'state': 'odisha',\n",
        "           'state': 'maharashtra',\n",
        "           'state': 'manipur',\n",
        "           'state': 'meghalaya'}\n"
      ],
      "metadata": {
        "id": "euvW2NUH5UCB"
      },
      "execution_count": 52,
      "outputs": []
    },
    {
      "cell_type": "code",
      "source": [
        "path['state'] = path['state'].map(mapping)"
      ],
      "metadata": {
        "id": "XLa7__ph531e"
      },
      "execution_count": 54,
      "outputs": []
    },
    {
      "cell_type": "code",
      "source": [
        "print(path)"
      ],
      "metadata": {
        "colab": {
          "base_uri": "https://localhost:8080/"
        },
        "id": "t-IoHQOl6W-G",
        "outputId": "d6ff8648-da43-4ae6-9dd1-4cbe30d254f4"
      },
      "execution_count": 55,
      "outputs": [
        {
          "output_type": "stream",
          "name": "stdout",
          "text": [
            "       Unnamed: 0                      name  registeredUsers state  year  \\\n",
            "0               0             south andaman             5846   NaN  2018   \n",
            "1               1  north and middle andaman              632   NaN  2018   \n",
            "2               2                  nicobars              262   NaN  2018   \n",
            "3               3                    744103             1608   NaN  2018   \n",
            "4               4                    744101             1108   NaN  2018   \n",
            "...           ...                       ...              ...   ...   ...   \n",
            "11096       11096                    700015            93175   NaN  2022   \n",
            "11097       11097                    742304            91059   NaN  2022   \n",
            "11098       11098                    721101            90324   NaN  2022   \n",
            "11099       11099                    700091            88432   NaN  2022   \n",
            "11100       11100                    700150            87552   NaN  2022   \n",
            "\n",
            "       quarter  \n",
            "0            1  \n",
            "1            1  \n",
            "2            1  \n",
            "3            1  \n",
            "4            1  \n",
            "...        ...  \n",
            "11096        1  \n",
            "11097        1  \n",
            "11098        1  \n",
            "11099        1  \n",
            "11100        1  \n",
            "\n",
            "[11101 rows x 6 columns]\n"
          ]
        }
      ]
    },
    {
      "cell_type": "code",
      "source": [
        "import matplotlib.pyplot as plt"
      ],
      "metadata": {
        "id": "JqxdeFPq7DNS"
      },
      "execution_count": 56,
      "outputs": []
    },
    {
      "cell_type": "code",
      "source": [
        "categories = ['odisha', 'kerala', 'gujarat','chandigarh', 'lakshadweep', 'madhya_pradesh','maharashtra']\n",
        "quantities = [100000, 200000, 50000,8000000,15000,147056,528794]"
      ],
      "metadata": {
        "id": "K3bfeG607HKa"
      },
      "execution_count": 59,
      "outputs": []
    },
    {
      "cell_type": "code",
      "source": [
        "plt.bar(categories, quantities)"
      ],
      "metadata": {
        "colab": {
          "base_uri": "https://localhost:8080/",
          "height": 462
        },
        "id": "oQsrej4-8VDN",
        "outputId": "a5591953-fd24-4eb0-c50b-aa7f53d356d8"
      },
      "execution_count": 60,
      "outputs": [
        {
          "output_type": "execute_result",
          "data": {
            "text/plain": [
              "<BarContainer object of 7 artists>"
            ]
          },
          "metadata": {},
          "execution_count": 60
        },
        {
          "output_type": "display_data",
          "data": {
            "text/plain": [
              "<Figure size 640x480 with 1 Axes>"
            ],
            "image/png": "[encoded data removed]"
          },
          "metadata": {}
        }
      ]
    },
    {
      "cell_type": "code",
      "source": [
        "plt.xlabel('Categories')\n",
        "plt.ylabel('Quantities')\n",
        "plt.title('state wise users')"
      ],
      "metadata": {
        "colab": {
          "base_uri": "https://localhost:8080/",
          "height": 489
        },
        "id": "JETY6JR98ceG",
        "outputId": "98bb5de8-dfe5-439e-bf75-b913d8de86b9"
      },
      "execution_count": 64,
      "outputs": [
        {
          "output_type": "execute_result",
          "data": {
            "text/plain": [
              "Text(0.5, 1.0, 'state wise users')"
            ]
          },
          "metadata": {},
          "execution_count": 64
        },
        {
          "output_type": "display_data",
          "data": {
            "text/plain": [
              "<Figure size 640x480 with 1 Axes>"
            ],
            "image/png": "[encoded data removed]"
          },
          "metadata": {}
        }
      ]
    },
    {
      "cell_type": "code",
      "source": [
        "plt.show()"
      ],
      "metadata": {
        "id": "CrMsv0xt8sKr"
      },
      "execution_count": 65,
      "outputs": []
    }
  ]
}