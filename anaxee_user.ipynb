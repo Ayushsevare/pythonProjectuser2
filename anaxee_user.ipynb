{
  "nbformat": 4,
  "nbformat_minor": 0,
  "metadata": {
    "colab": {
      "provenance": [],
      "authorship_tag": "ABX9TyP/DMiMsDH7PHyfQY6EyPOK",
      "include_colab_link": true
    },
    "kernelspec": {
      "name": "python3",
      "display_name": "Python 3"
    },
    "language_info": {
      "name": "python"
    }
  },
  "cells": [
    {
      "cell_type": "markdown",
      "metadata": {
        "id": "view-in-github",
        "colab_type": "text"
      },
      "source": [
        "<a href=\"https://colab.research.google.com/github/Ayushsevare/pythonProjectuser2/blob/master/anaxee_user.ipynb\" target=\"_parent\"><img src=\"https://colab.research.google.com/assets/colab-badge.svg\" alt=\"Open In Colab\"/></a>"
      ]
    },
    {
      "cell_type": "code",
      "execution_count": null,
      "metadata": {
        "id": "-c1_HVVQvrDk"
      },
      "outputs": [],
      "source": [
        "import pandas as pd\n",
        "import numpy as np\n",
        "import sklearn\n"
      ]
    },
    {
      "cell_type": "code",
      "source": [
        "path= pd.read_csv('/content/final_agg_user.csv')"
      ],
      "metadata": {
        "id": "Gaae6Keaw1U9"
      },
      "execution_count": null,
      "outputs": []
    },
    {
      "cell_type": "code",
      "source": [
        "print(\"initial data\")\n",
        "print(path.head())"
      ],
      "metadata": {
        "colab": {
          "base_uri": "https://localhost:8080/"
        },
        "id": "0NpwV_BQxsbX",
        "outputId": "4d4321c9-583a-4b06-f8dc-004411f3422a"
      },
      "execution_count": null,
      "outputs": [
        {
          "output_type": "stream",
          "name": "stdout",
          "text": [
            "initial data\n",
            "   Unnamed: 0    brand  count  percentage                      state  year  \\\n",
            "0           0   Xiaomi   1665    0.247033  andaman-&-nicobar-islands  2018   \n",
            "1           1  Samsung   1445    0.214392  andaman-&-nicobar-islands  2018   \n",
            "2           2     Vivo    982    0.145697  andaman-&-nicobar-islands  2018   \n",
            "3           3     Oppo    501    0.074332  andaman-&-nicobar-islands  2018   \n",
            "4           4  OnePlus    332    0.049258  andaman-&-nicobar-islands  2018   \n",
            "\n",
            "   quarter  \n",
            "0        1  \n",
            "1        1  \n",
            "2        1  \n",
            "3        1  \n",
            "4        1  \n"
          ]
        }
      ]
    },
    {
      "cell_type": "code",
      "source": [
        "print(\"Missing values:\")\n",
        "print(path.isnull().sum())\n",
        "     "
      ],
      "metadata": {
        "colab": {
          "base_uri": "https://localhost:8080/"
        },
        "id": "w79G_YZ_x9tH",
        "outputId": "35f798c5-2fd1-475b-c924-285a70f9b1d8"
      },
      "execution_count": null,
      "outputs": [
        {
          "output_type": "stream",
          "name": "stdout",
          "text": [
            "Missing values:\n",
            "Unnamed: 0    0\n",
            "brand         0\n",
            "count         0\n",
            "percentage    0\n",
            "state         0\n",
            "year          0\n",
            "quarter       0\n",
            "dtype: int64\n"
          ]
        }
      ]
    },
    {
      "cell_type": "code",
      "source": [
        "path = path.dropna()"
      ],
      "metadata": {
        "id": "QaMS2qUUyHXD"
      },
      "execution_count": null,
      "outputs": []
    },
    {
      "cell_type": "code",
      "source": [
        "path['count'] = path['count'].astype(int)\n",
        "path['percentage'] = path['percentage'].astype(int)\n",
        "path['year'] = path['year'].astype(int)\n",
        "path['quarter'] = path['quarter'].astype(float)\n"
      ],
      "metadata": {
        "id": "TfNZcK6uyeCC"
      },
      "execution_count": null,
      "outputs": []
    },
    {
      "cell_type": "code",
      "source": [
        "print(\"initial data\")\n",
        "print(path.head())"
      ],
      "metadata": {
        "colab": {
          "base_uri": "https://localhost:8080/"
        },
        "id": "_Wt27vbly-vJ",
        "outputId": "5050086d-7f5f-4f22-dd88-d5766a388298"
      },
      "execution_count": null,
      "outputs": [
        {
          "output_type": "stream",
          "name": "stdout",
          "text": [
            "initial data\n",
            "   Unnamed: 0    brand  count  percentage                      state  year  \\\n",
            "0           0   Xiaomi   1665           0  andaman-&-nicobar-islands  2018   \n",
            "1           1  Samsung   1445           0  andaman-&-nicobar-islands  2018   \n",
            "2           2     Vivo    982           0  andaman-&-nicobar-islands  2018   \n",
            "3           3     Oppo    501           0  andaman-&-nicobar-islands  2018   \n",
            "4           4  OnePlus    332           0  andaman-&-nicobar-islands  2018   \n",
            "\n",
            "   quarter  \n",
            "0      1.0  \n",
            "1      1.0  \n",
            "2      1.0  \n",
            "3      1.0  \n",
            "4      1.0  \n"
          ]
        }
      ]
    },
    {
      "cell_type": "code",
      "source": [
        "path['brand'] = path['brand'].str.strip()\n",
        "path['state'] = path['state'].str.strip()"
      ],
      "metadata": {
        "id": "92PSxJ93zRNz"
      },
      "execution_count": null,
      "outputs": []
    },
    {
      "cell_type": "code",
      "source": [
        "print(\"initial data\")\n",
        "print(path.head())"
      ],
      "metadata": {
        "colab": {
          "base_uri": "https://localhost:8080/"
        },
        "id": "wnBC2wY5zc51",
        "outputId": "8cb0d0f7-540f-41d4-b8ce-fbbc33cb4272"
      },
      "execution_count": null,
      "outputs": [
        {
          "output_type": "stream",
          "name": "stdout",
          "text": [
            "initial data\n",
            "   Unnamed: 0    brand  count  percentage                      state  year  \\\n",
            "0           0   Xiaomi   1665           0  andaman-&-nicobar-islands  2018   \n",
            "1           1  Samsung   1445           0  andaman-&-nicobar-islands  2018   \n",
            "2           2     Vivo    982           0  andaman-&-nicobar-islands  2018   \n",
            "3           3     Oppo    501           0  andaman-&-nicobar-islands  2018   \n",
            "4           4  OnePlus    332           0  andaman-&-nicobar-islands  2018   \n",
            "\n",
            "   quarter  \n",
            "0      1.0  \n",
            "1      1.0  \n",
            "2      1.0  \n",
            "3      1.0  \n",
            "4      1.0  \n"
          ]
        }
      ]
    },
    {
      "cell_type": "code",
      "source": [
        "print(\"Cleaned dataset:\")\n",
        "print(path.head())"
      ],
      "metadata": {
        "colab": {
          "base_uri": "https://localhost:8080/"
        },
        "id": "Pqkp7jwXzw_2",
        "outputId": "057ff42d-397a-43ad-c882-b93f414a06a3"
      },
      "execution_count": null,
      "outputs": [
        {
          "output_type": "stream",
          "name": "stdout",
          "text": [
            "Cleaned dataset:\n",
            "   Unnamed: 0    brand  count  percentage                      state  year  \\\n",
            "0           0   Xiaomi   1665           0  andaman-&-nicobar-islands  2018   \n",
            "1           1  Samsung   1445           0  andaman-&-nicobar-islands  2018   \n",
            "2           2     Vivo    982           0  andaman-&-nicobar-islands  2018   \n",
            "3           3     Oppo    501           0  andaman-&-nicobar-islands  2018   \n",
            "4           4  OnePlus    332           0  andaman-&-nicobar-islands  2018   \n",
            "\n",
            "   quarter  \n",
            "0      1.0  \n",
            "1      1.0  \n",
            "2      1.0  \n",
            "3      1.0  \n",
            "4      1.0  \n"
          ]
        }
      ]
    },
    {
      "cell_type": "code",
      "source": [
        "print(path.describe())"
      ],
      "metadata": {
        "colab": {
          "base_uri": "https://localhost:8080/"
        },
        "id": "tCP6VuJT0bic",
        "outputId": "834e2288-0b7d-49f2-f9ef-8b1f9a2d82c8"
      },
      "execution_count": null,
      "outputs": [
        {
          "output_type": "stream",
          "name": "stdout",
          "text": [
            "        Unnamed: 0         count  percentage         year      quarter\n",
            "count  6732.000000  6.732000e+03      6732.0  6732.000000  6732.000000\n",
            "mean      5.000000  5.140115e+05         0.0  2019.647059     2.411765\n",
            "std       3.162513  1.081772e+06         0.0     1.233984     1.140715\n",
            "min       0.000000  1.000000e+01         0.0  2018.000000     1.000000\n",
            "25%       2.000000  9.354000e+03         0.0  2019.000000     1.000000\n",
            "50%       5.000000  8.472250e+04         0.0  2020.000000     2.000000\n",
            "75%       8.000000  4.555808e+05         0.0  2021.000000     3.000000\n",
            "max      10.000000  1.134094e+07         0.0  2022.000000     4.000000\n"
          ]
        }
      ]
    },
    {
      "cell_type": "code",
      "source": [
        "total_count = path['count'].sum()\n",
        "total_percentage = path['percentage'].sum()\n",
        "\n",
        "print(\"Total count:\", total_count)\n",
        "print(\"Total percentage:\", total_percentage)"
      ],
      "metadata": {
        "colab": {
          "base_uri": "https://localhost:8080/"
        },
        "id": "10fbrohq7wtE",
        "outputId": "343f8906-0d27-4050-b523-2a4105d80149"
      },
      "execution_count": null,
      "outputs": [
        {
          "output_type": "stream",
          "name": "stdout",
          "text": [
            "Total count: 3460325192\n",
            "Total percentage: 0\n"
          ]
        }
      ]
    },
    {
      "cell_type": "code",
      "source": [
        "state_count = path['state'].value_counts()\n",
        "state_percentage = path.groupby('state')['percentage'].sum()\n",
        "\n",
        "print(\"Counts by state:\")\n",
        "print(state_count)\n",
        "\n",
        "print(\"\\nPercentage by state:\")\n",
        "print(state_percentage)"
      ],
      "metadata": {
        "colab": {
          "base_uri": "https://localhost:8080/"
        },
        "id": "i6gqxux59OOB",
        "outputId": "c69048e9-f131-4dcb-c99e-77e595c10d63"
      },
      "execution_count": null,
      "outputs": [
        {
          "output_type": "stream",
          "name": "stdout",
          "text": [
            "Counts by state:\n",
            "andaman-&-nicobar-islands             187\n",
            "andhra-pradesh                        187\n",
            "maharashtra                           187\n",
            "manipur                               187\n",
            "meghalaya                             187\n",
            "mizoram                               187\n",
            "nagaland                              187\n",
            "odisha                                187\n",
            "puducherry                            187\n",
            "punjab                                187\n",
            "rajasthan                             187\n",
            "sikkim                                187\n",
            "tamil-nadu                            187\n",
            "telangana                             187\n",
            "tripura                               187\n",
            "uttar-pradesh                         187\n",
            "uttarakhand                           187\n",
            "madhya-pradesh                        187\n",
            "lakshadweep                           187\n",
            "ladakh                                187\n",
            "delhi                                 187\n",
            "arunachal-pradesh                     187\n",
            "assam                                 187\n",
            "bihar                                 187\n",
            "chandigarh                            187\n",
            "chhattisgarh                          187\n",
            "dadra-&-nagar-haveli-&-daman-&-diu    187\n",
            "goa                                   187\n",
            "kerala                                187\n",
            "gujarat                               187\n",
            "haryana                               187\n",
            "himachal-pradesh                      187\n",
            "jammu-&-kashmir                       187\n",
            "jharkhand                             187\n",
            "karnataka                             187\n",
            "west-bengal                           187\n",
            "Name: state, dtype: int64\n",
            "\n",
            "Percentage by state:\n",
            "state\n",
            "andaman-&-nicobar-islands             0\n",
            "andhra-pradesh                        0\n",
            "arunachal-pradesh                     0\n",
            "assam                                 0\n",
            "bihar                                 0\n",
            "chandigarh                            0\n",
            "chhattisgarh                          0\n",
            "dadra-&-nagar-haveli-&-daman-&-diu    0\n",
            "delhi                                 0\n",
            "goa                                   0\n",
            "gujarat                               0\n",
            "haryana                               0\n",
            "himachal-pradesh                      0\n",
            "jammu-&-kashmir                       0\n",
            "jharkhand                             0\n",
            "karnataka                             0\n",
            "kerala                                0\n",
            "ladakh                                0\n",
            "lakshadweep                           0\n",
            "madhya-pradesh                        0\n",
            "maharashtra                           0\n",
            "manipur                               0\n",
            "meghalaya                             0\n",
            "mizoram                               0\n",
            "nagaland                              0\n",
            "odisha                                0\n",
            "puducherry                            0\n",
            "punjab                                0\n",
            "rajasthan                             0\n",
            "sikkim                                0\n",
            "tamil-nadu                            0\n",
            "telangana                             0\n",
            "tripura                               0\n",
            "uttar-pradesh                         0\n",
            "uttarakhand                           0\n",
            "west-bengal                           0\n",
            "Name: percentage, dtype: int64\n"
          ]
        }
      ]
    },
    {
      "cell_type": "code",
      "source": [
        "path = '/content/final_agg_user.csv'"
      ],
      "metadata": {
        "id": "wVyj_q-fAgd-"
      },
      "execution_count": null,
      "outputs": []
    },
    {
      "cell_type": "code",
      "source": [
        "chunk_size = 1000000\n"
      ],
      "metadata": {
        "id": "-HETwQVk99sA"
      },
      "execution_count": null,
      "outputs": []
    },
    {
      "cell_type": "code",
      "source": [
        "medians = []"
      ],
      "metadata": {
        "id": "_2BwWip__plF"
      },
      "execution_count": null,
      "outputs": []
    },
    {
      "cell_type": "code",
      "source": [
        "for chunk in pd.read_csv(path, chunksize=chunk_size):\n",
        "    median_chunk = chunk.median()\n",
        "    medians.append(median_chunk)"
      ],
      "metadata": {
        "colab": {
          "base_uri": "https://localhost:8080/"
        },
        "id": "drDApWrPArWy",
        "outputId": "c53e76b2-783c-4f63-9024-f181f9a4ff5a"
      },
      "execution_count": null,
      "outputs": [
        {
          "output_type": "stream",
          "name": "stderr",
          "text": [
            "<ipython-input-40-6041d9ffb6aa>:3: FutureWarning: The default value of numeric_only in DataFrame.median is deprecated. In a future version, it will default to False. In addition, specifying 'numeric_only=None' is deprecated. Select only valid columns or specify the value of numeric_only to silence this warning.\n",
            "  median_chunk = chunk.median()\n"
          ]
        }
      ]
    },
    {
      "cell_type": "code",
      "source": [
        "all_medians = pd.concat(medians)"
      ],
      "metadata": {
        "id": "FT2QZxi2BmqX"
      },
      "execution_count": null,
      "outputs": []
    },
    {
      "cell_type": "code",
      "source": [
        "final_median = all_medians.median()\n",
        "\n",
        "print(\"Final Median:\", final_median)"
      ],
      "metadata": {
        "colab": {
          "base_uri": "https://localhost:8080/"
        },
        "id": "4bxNUrxiB0Te",
        "outputId": "5a8b3b0d-99b1-4ee3-ee43-62d4d9f46535"
      },
      "execution_count": null,
      "outputs": [
        {
          "output_type": "stream",
          "name": "stdout",
          "text": [
            "Final Median: 5.0\n"
          ]
        }
      ]
    },
    {
      "cell_type": "code",
      "source": [
        "import statistics"
      ],
      "metadata": {
        "id": "amspd4PnqtQP"
      },
      "execution_count": 10,
      "outputs": []
    },
    {
      "cell_type": "code",
      "source": [
        "path = [\n",
        "    {\"brand\": \"Vivo\", \"count\": 982, \"percentage\": 20, \"state\": \"CA\", \"year\": 2018, \"quarter\": 1},\n",
        "    {\"brand\": \"oppo\", \"count\": 501, \"percentage\": 30, \"state\": \"NY\", \"year\": 2021, \"quarter\": 2},\n",
        "    {\"brand\": \"apple\", \"count\": 4000, \"percentage\": 10, \"state\": \"TX\", \"year\": 2028, \"quarter\": 3},\n",
        "    {\"brand\": \"Xiomi\", \"count\": 1665, \"percentage\": 20, \"state\": \"CA\", \"year\": 2018, \"quarter\": 1},\n",
        "    {\"brand\": \"Motorola\", \"count\": 1005, \"percentage\": 30, \"state\": \"NY\", \"year\": 2021, \"quarter\": 2},\n",
        "    {\"brand\": \"Lenovo\", \"count\": 3325, \"percentage\": 10, \"state\": \"TX\", \"year\": 2022, \"quarter\": 3},\n",
        "    {\"brand\": \"samsung\", \"count\": 10, \"percentage\": 20, \"state\": \"CA\", \"year\": 2019, \"quarter\": 1},\n",
        "    {\"brand\": \"Realme\", \"count\": 815, \"percentage\": 30, \"state\": \"NY\", \"year\": 2029, \"quarter\": 2},\n",
        "    {\"brand\": \"huawei\", \"count\": 2145, \"percentage\": 10, \"state\": \"TX\", \"year\": 2019, \"quarter\": 3},\n",
        "    # Add more rows as needed\n",
        "]"
      ],
      "metadata": {
        "id": "AgQREyNWqwoR"
      },
      "execution_count": 28,
      "outputs": []
    },
    {
      "cell_type": "code",
      "source": [
        "count_values = [row[\"count\"] for row in path]"
      ],
      "metadata": {
        "id": "BmxGu5oasFFg"
      },
      "execution_count": 29,
      "outputs": []
    },
    {
      "cell_type": "code",
      "source": [
        "standard_deviation = statistics.stdev(count_values)"
      ],
      "metadata": {
        "id": "UasGIyUAsL6I"
      },
      "execution_count": 31,
      "outputs": []
    },
    {
      "cell_type": "code",
      "source": [
        "print(\"Standard Deviation of count column:\", standard_deviation)"
      ],
      "metadata": {
        "colab": {
          "base_uri": "https://localhost:8080/"
        },
        "id": "KD3lN0wgsQat",
        "outputId": "8ca785dd-3823-4acf-cd22-13ee73f2e021"
      },
      "execution_count": 32,
      "outputs": [
        {
          "output_type": "stream",
          "name": "stdout",
          "text": [
            "Standard Deviation of count column: 1328.7538334845924\n"
          ]
        }
      ]
    }
  ]
}