{
  "nbformat": 4,
  "nbformat_minor": 0,
  "metadata": {
    "colab": {
      "provenance": [],
      "authorship_tag": "ABX9TyMNmrBK3KE/HrA4fXG4iH2M",
      "include_colab_link": true
    },
    "kernelspec": {
      "name": "python3",
      "display_name": "Python 3"
    },
    "language_info": {
      "name": "python"
    }
  },
  "cells": [
    {
      "cell_type": "markdown",
      "metadata": {
        "id": "view-in-github",
        "colab_type": "text"
      },
      "source": [
        "<a href=\"https://colab.research.google.com/github/Ayushsevare/pythonProjectuser2/blob/master/tenhard_Cluster.ipynb\" target=\"_parent\"><img src=\"https://colab.research.google.com/assets/colab-badge.svg\" alt=\"Open In Colab\"/></a>"
      ]
    },
    {
      "cell_type": "code",
      "execution_count": null,
      "metadata": {
        "id": "ERC-8CH98lKQ"
      },
      "outputs": [],
      "source": [
        "import numpy as np\n",
        "import pandas as pd\n",
        "from datetime import datetime"
      ]
    },
    {
      "cell_type": "code",
      "source": [
        "path = pd.read_csv('/content/Ayush-10ard.csv')"
      ],
      "metadata": {
        "id": "3j2DAZzw8o2Q"
      },
      "execution_count": null,
      "outputs": []
    },
    {
      "cell_type": "code",
      "source": [
        "print(\"Initial dataset:\")\n",
        "print(path.head())"
      ],
      "metadata": {
        "colab": {
          "base_uri": "https://localhost:8080/"
        },
        "id": "8qdtAs0Y8wBU",
        "outputId": "576c2179-85e3-4621-b749-5e4f236eaed2"
      },
      "execution_count": null,
      "outputs": [
        {
          "output_type": "stream",
          "name": "stdout",
          "text": [
            "Initial dataset:\n",
            "                         Timestamp        Your Name  \\\n",
            "0  2023/06/15 10:01:08 AM GMT+5:30  Prakash bhatkar   \n",
            "1  2023/06/15 10:09:02 AM GMT+5:30            Ayush   \n",
            "2  2023/06/15 10:10:28 AM GMT+5:30  Rutuja bhangale   \n",
            "3  2023/06/15 10:14:01 AM GMT+5:30    Trapti patel    \n",
            "4  2023/06/15 10:22:45 AM GMT+5:30      Nancy Jain    \n",
            "\n",
            "                        email What is your age   Age What is your gender  \\\n",
            "0    bhatkarprakash@gmail.com            18-24  21.0                Male   \n",
            "1           asevare@gmail.com            18-24  21.0                Male   \n",
            "2     rutujabangale@gmail.com            18-24  21.0              Female   \n",
            "3  trapti.patel9329@gmail.com            18-24  21.0              Female   \n",
            "4   nancy.jain.mba24@iilm.edu            18-24  21.0              Female   \n",
            "\n",
            "  How frequently do you consume media content such as TV shows movies news podcasts etc  \\\n",
            "0                                              Daily                                      \n",
            "1                                              Daily                                      \n",
            "2                                              Daily                                      \n",
            "3                                       Occasionally                                      \n",
            "4                                              Daily                                      \n",
            "\n",
            "  Which media platforms do you use the most to access content  Select all that apply  \\\n",
            "0  Streaming services (Netflix, Hulu, etc.);Socia...                                   \n",
            "1  Social media platforms (Facebook, Instagram, T...                                   \n",
            "2  Traditional TV channels;Social media platforms...                                   \n",
            "3                                            YouTube                                   \n",
            "4  Streaming services (Netflix, Hulu, etc.);Socia...                                   \n",
            "\n",
            "  How do you typically discover new media content to consume  Select all that apply  \\\n",
            "0  Recommendations from friends or family;Online ...                                  \n",
            "1                          Online reviews or ratings                                  \n",
            "2  Recommendations from friends or family;Online ...                                  \n",
            "3  Content discovery algorithms (Netflix recommen...                                  \n",
            "4  Recommendations from friends or family;Online ...                                  \n",
            "\n",
            "  How often do you engage with advertisements or sponsored content while consuming media  \\\n",
            "0                                             Rarely                                       \n",
            "1                                       Occasionally                                       \n",
            "2                                       Occasionally                                       \n",
            "3                                       Occasionally                                       \n",
            "4                                         Frequently                                       \n",
            "\n",
            "   ...  \\\n",
            "0  ...   \n",
            "1  ...   \n",
            "2  ...   \n",
            "3  ...   \n",
            "4  ...   \n",
            "\n",
            "  Which genres of media content do you enjoy the most? (Select all that apply)\\n   \\\n",
            "0  Drama;Comedy;Action/Adventure;Sci-fi/Fantasy;S...                                \n",
            "1                            Comedy;Action/Adventure                                \n",
            "2  Drama;Comedy;Action/Adventure;Sci-fi/Fantasy;R...                                \n",
            "3                               News/Current Affairs                                \n",
            "4  Drama;Comedy;Action/Adventure;Sci-fi/Fantasy;N...                                \n",
            "\n",
            "  Have you subscribed to any streaming or book publishing services? If yes, which ones? (Select all that apply)  \\\n",
            "0                 Netflix;Amazon Prime Video;Disney+                                                              \n",
            "1                                       Disney+;Hulu                                                              \n",
            "2                         Amazon Prime Video;Disney+                                                              \n",
            "3                         Amazon Prime Video;Disney+                                                              \n",
            "4                         Netflix;Amazon Prime Video                                                              \n",
            "\n",
            "  How often do you engage with user-generated content (UGC) such as vlogs, podcasts, or online forums?  \\\n",
            "0                                             Rarely                                                     \n",
            "1                                        Once a week                                                     \n",
            "2                               Several times a week                                                     \n",
            "3                                       Occasionally                                                     \n",
            "4                                        Once a week                                                     \n",
            "\n",
            "  Do you follow any media influencers / celebrities or  e-reading platforms or social media platforms? If yes, who are they? (Please list their names or handles)  \\\n",
            "0                                                NaN                                                                                                                \n",
            "1                                                yes                                                                                                                \n",
            "2  YouTube - Mumbaikar Nikhil\\nGaur gopal das \\nS...                                                                                                                \n",
            "3                                                 No                                                                                                                \n",
            "4                                                NaN                                                                                                                \n",
            "\n",
            "   \\nHow important is diversity and representation in media content to you?  \\\n",
            "0                                 Somewhat important                          \n",
            "1                                 Not very important                          \n",
            "2                                     Very important                          \n",
            "3                                 Somewhat important                          \n",
            "4                                     Very important                          \n",
            "\n",
            "  Have you ever participated in any media-related events or conventions (film festivals, comic conventions, etc.)?  \\\n",
            "0                                                 No                                                                 \n",
            "1                                                Yes                                                                 \n",
            "2                                              Maybe                                                                 \n",
            "3                                                Yes                                                                 \n",
            "4                                                 No                                                                 \n",
            "\n",
            "  Are you satisfied with the current state of media regulation and censorship?  \\\n",
            "0                                 Somewhat satisfied                             \n",
            "1                                            Neutral                             \n",
            "2                                            Neutral                             \n",
            "3                                            Neutral                             \n",
            "4                                 Somewhat satisfied                             \n",
            "\n",
            "  How influential are online reviews or ratings in your decision-making process when choosing media content?  \\\n",
            "0                                   Very influential                                                           \n",
            "1                                   Very influential                                                           \n",
            "2                               Somewhat influential                                                           \n",
            "3                               Somewhat influential                                                           \n",
            "4                               Somewhat influential                                                           \n",
            "\n",
            "  Do you feel that traditional media (TV, radio, print) is being overshadowed by digital media? Why or why not?  \\\n",
            "0               Yes, better content and flexibility                                                               \n",
            "1                                              radio                                                              \n",
            "2                                                  .                                                              \n",
            "3                                                 No                                                              \n",
            "4                                                NaN                                                              \n",
            "\n",
            "  Would you be willing to pay for ad-free media content if it was available?  \n",
            "0                      Maybe, depending on the price                          \n",
            "1                      Maybe, depending on the price                          \n",
            "2                      Maybe, depending on the price                          \n",
            "3                                                NaN                          \n",
            "4                      Maybe, depending on the price                          \n",
            "\n",
            "[5 rows x 21 columns]\n"
          ]
        }
      ]
    },
    {
      "cell_type": "code",
      "source": [
        "print(\"Missing values:\")\n",
        "print(path.isnull().sum())"
      ],
      "metadata": {
        "colab": {
          "base_uri": "https://localhost:8080/"
        },
        "id": "f3wCLDdE81GA",
        "outputId": "e4ff1dad-e658-42d9-ef34-b8b278446469"
      },
      "execution_count": null,
      "outputs": [
        {
          "output_type": "stream",
          "name": "stdout",
          "text": [
            "Missing values:\n",
            "Timestamp                                                                                                                                                           0\n",
            "Your Name                                                                                                                                                           1\n",
            "email                                                                                                                                                               5\n",
            "What is your age                                                                                                                                                    1\n",
            "Age                                                                                                                                                                 1\n",
            "What is your gender                                                                                                                                                 0\n",
            "How frequently do you consume media content such as TV shows movies news podcasts etc                                                                               0\n",
            "Which media platforms do you use the most to access content  Select all that apply                                                                                  0\n",
            "How do you typically discover new media content to consume  Select all that apply                                                                                   0\n",
            "How often do you engage with advertisements or sponsored content while consuming media                                                                              0\n",
            "Do you prefer consuming media content through traditional broadcasting (TV, radio) or digital platforms (streaming services, online publications)?                  1\n",
            "Which genres of media content do you enjoy the most? (Select all that apply)\\n                                                                                      1\n",
            "Have you subscribed to any streaming or book publishing services? If yes, which ones? (Select all that apply)                                                       3\n",
            "How often do you engage with user-generated content (UGC) such as vlogs, podcasts, or online forums?                                                                1\n",
            "Do you follow any media influencers / celebrities or  e-reading platforms or social media platforms? If yes, who are they? (Please list their names or handles)    14\n",
            " \\nHow important is diversity and representation in media content to you?                                                                                           1\n",
            "Have you ever participated in any media-related events or conventions (film festivals, comic conventions, etc.)?                                                    1\n",
            "Are you satisfied with the current state of media regulation and censorship?                                                                                        1\n",
            "How influential are online reviews or ratings in your decision-making process when choosing media content?                                                          1\n",
            "Do you feel that traditional media (TV, radio, print) is being overshadowed by digital media? Why or why not?                                                      12\n",
            "Would you be willing to pay for ad-free media content if it was available?                                                                                          3\n",
            "dtype: int64\n"
          ]
        }
      ]
    },
    {
      "cell_type": "code",
      "source": [
        "path = path.dropna()"
      ],
      "metadata": {
        "id": "LDfamXlg84Jx"
      },
      "execution_count": null,
      "outputs": []
    },
    {
      "cell_type": "code",
      "source": [
        "path['Timestamp'] = pd.to_datetime(path['Timestamp'])\n",
        "path['Your Name'] = path['Your Name'].astype(str)\n",
        "path['email'] = path['email'].astype(str)\n",
        "path['Age'] = path['Age'].astype(int)\n",
        "age_range = '18-24'\n",
        "start_age, end_age = map(int, age_range.split('-'))\n",
        "representative_age = (start_age + end_age) / 2.0\n",
        "age_range = '25-34'\n",
        "start_age, end_age = map(int, age_range.split('-'))\n",
        "representative_age = (start_age + end_age) / 2.0\n",
        "age_range = '35-44'\n",
        "start_age, end_age = map(int, age_range.split('-'))\n",
        "representative_age = (start_age + end_age) / 2.0"
      ],
      "metadata": {
        "id": "WSwO5Zva9Aei"
      },
      "execution_count": null,
      "outputs": []
    },
    {
      "cell_type": "code",
      "source": [
        "print(path.columns)\n"
      ],
      "metadata": {
        "colab": {
          "base_uri": "https://localhost:8080/"
        },
        "id": "g6c2lYh79NTz",
        "outputId": "4b9dae95-4935-4f0b-e7a6-6455635fadd5"
      },
      "execution_count": null,
      "outputs": [
        {
          "output_type": "stream",
          "name": "stdout",
          "text": [
            "Index(['Timestamp', 'Your Name', 'email', 'What is your age', 'Age',\n",
            "       'What is your gender',\n",
            "       'How frequently do you consume media content such as TV shows movies news podcasts etc',\n",
            "       'Which media platforms do you use the most to access content  Select all that apply',\n",
            "       'How do you typically discover new media content to consume  Select all that apply',\n",
            "       'How often do you engage with advertisements or sponsored content while consuming media',\n",
            "       'Do you prefer consuming media content through traditional broadcasting (TV, radio) or digital platforms (streaming services, online publications)?',\n",
            "       'Which genres of media content do you enjoy the most? (Select all that apply)\\n ',\n",
            "       'Have you subscribed to any streaming or book publishing services? If yes, which ones? (Select all that apply)',\n",
            "       'How often do you engage with user-generated content (UGC) such as vlogs, podcasts, or online forums?',\n",
            "       'Do you follow any media influencers / celebrities or  e-reading platforms or social media platforms? If yes, who are they? (Please list their names or handles)',\n",
            "       ' \\nHow important is diversity and representation in media content to you?',\n",
            "       'Have you ever participated in any media-related events or conventions (film festivals, comic conventions, etc.)?',\n",
            "       'Are you satisfied with the current state of media regulation and censorship?',\n",
            "       'How influential are online reviews or ratings in your decision-making process when choosing media content?',\n",
            "       'Do you feel that traditional media (TV, radio, print) is being overshadowed by digital media? Why or why not?',\n",
            "       'Would you be willing to pay for ad-free media content if it was available?'],\n",
            "      dtype='object')\n"
          ]
        }
      ]
    },
    {
      "cell_type": "code",
      "source": [
        "path['What is your gender'] = path['What is your gender'].str.strip()\n",
        "path['How frequently do you consume media content such as TV shows movies news podcasts etc'] = path['How frequently do you consume media content such as TV shows movies news podcasts etc'].str.strip()"
      ],
      "metadata": {
        "id": "-_CrwTGF94Pp"
      },
      "execution_count": null,
      "outputs": []
    },
    {
      "cell_type": "code",
      "source": [
        "print(\"Cleaned dataset:\")\n",
        "print(path.head())"
      ],
      "metadata": {
        "colab": {
          "base_uri": "https://localhost:8080/"
        },
        "id": "ue8GmW2uJaPR",
        "outputId": "903c25ad-a058-4eaf-f7f6-3ee65b26f11b"
      },
      "execution_count": null,
      "outputs": [
        {
          "output_type": "stream",
          "name": "stdout",
          "text": [
            "Cleaned dataset:\n",
            "                   Timestamp         Your Name                     email  \\\n",
            "1  2023-06-15 10:09:02-05:30             Ayush         asevare@gmail.com   \n",
            "2  2023-06-15 10:10:28-05:30   Rutuja bhangale   rutujabangale@gmail.com   \n",
            "8  2023-06-16 11:59:46-05:30   Sheikh hanzala     seikhhanzala@gmail.com   \n",
            "9  2023-06-16 19:23:36-05:30  Aakash Upadhyay      aakash23rbt@gmail.com   \n",
            "10 2023-06-16 19:43:33-05:30         S. Aparna  aparnasekar100@gmail.com   \n",
            "\n",
            "   What is your age  Age What is your gender  \\\n",
            "1             18-24   21                Male   \n",
            "2             18-24   21              Female   \n",
            "8             18-24   21                Male   \n",
            "9             18-24   21                Male   \n",
            "10            18-24   21              Female   \n",
            "\n",
            "   How frequently do you consume media content such as TV shows movies news podcasts etc  \\\n",
            "1                                               Daily                                      \n",
            "2                                               Daily                                      \n",
            "8                                               Daily                                      \n",
            "9                                               Daily                                      \n",
            "10                                              Daily                                      \n",
            "\n",
            "   Which media platforms do you use the most to access content  Select all that apply  \\\n",
            "1   Social media platforms (Facebook, Instagram, T...                                   \n",
            "2   Traditional TV channels;Social media platforms...                                   \n",
            "8   Traditional TV channels;Streaming services (Ne...                                   \n",
            "9   Social media platforms (Facebook, Instagram, T...                                   \n",
            "10   Streaming services (Netflix, Hulu, etc.);YouTube                                   \n",
            "\n",
            "   How do you typically discover new media content to consume  Select all that apply  \\\n",
            "1                           Online reviews or ratings                                  \n",
            "2   Recommendations from friends or family;Online ...                                  \n",
            "8   Recommendations from friends or family;Online ...                                  \n",
            "9             Social media influencers or celebrities                                  \n",
            "10  Online reviews or ratings;Social media influen...                                  \n",
            "\n",
            "   How often do you engage with advertisements or sponsored content while consuming media  \\\n",
            "1                                        Occasionally                                       \n",
            "2                                        Occasionally                                       \n",
            "8                                        Occasionally                                       \n",
            "9                                              Rarely                                       \n",
            "10                                         Frequently                                       \n",
            "\n",
            "    ...  \\\n",
            "1   ...   \n",
            "2   ...   \n",
            "8   ...   \n",
            "9   ...   \n",
            "10  ...   \n",
            "\n",
            "   Which genres of media content do you enjoy the most? (Select all that apply)\\n   \\\n",
            "1                             Comedy;Action/Adventure                                \n",
            "2   Drama;Comedy;Action/Adventure;Sci-fi/Fantasy;R...                                \n",
            "8   Drama;Comedy;Action/Adventure;Sci-fi/Fantasy;N...                                \n",
            "9            Drama;Action/Adventure;Reality TV;Sports                                \n",
            "10       Drama;Comedy;Action/Adventure;Sci-fi/Fantasy                                \n",
            "\n",
            "   Have you subscribed to any streaming or book publishing services? If yes, which ones? (Select all that apply)  \\\n",
            "1                                        Disney+;Hulu                                                              \n",
            "2                          Amazon Prime Video;Disney+                                                              \n",
            "8                  Netflix;Amazon Prime Video;Disney+                                                              \n",
            "9                          Netflix;Amazon Prime Video                                                              \n",
            "10                 Netflix;Amazon Prime Video;Disney+                                                              \n",
            "\n",
            "   How often do you engage with user-generated content (UGC) such as vlogs, podcasts, or online forums?  \\\n",
            "1                                         Once a week                                                     \n",
            "2                                Several times a week                                                     \n",
            "8                                         Once a week                                                     \n",
            "9                                              Rarely                                                     \n",
            "10                               Several times a week                                                     \n",
            "\n",
            "   Do you follow any media influencers / celebrities or  e-reading platforms or social media platforms? If yes, who are they? (Please list their names or handles)  \\\n",
            "1                                                 yes                                                                                                                \n",
            "2   YouTube - Mumbaikar Nikhil\\nGaur gopal das \\nS...                                                                                                                \n",
            "8                                                  No                                                                                                                \n",
            "9                                                  No                                                                                                                \n",
            "10                                              Yes.                                                                                                                 \n",
            "\n",
            "    \\nHow important is diversity and representation in media content to you?  \\\n",
            "1                                  Not very important                          \n",
            "2                                      Very important                          \n",
            "8                                 Extremely important                          \n",
            "9                                  Somewhat important                          \n",
            "10                                Extremely important                          \n",
            "\n",
            "   Have you ever participated in any media-related events or conventions (film festivals, comic conventions, etc.)?  \\\n",
            "1                                                 Yes                                                                 \n",
            "2                                               Maybe                                                                 \n",
            "8                                                 Yes                                                                 \n",
            "9                                                  No                                                                 \n",
            "10                                                 No                                                                 \n",
            "\n",
            "   Are you satisfied with the current state of media regulation and censorship?  \\\n",
            "1                                             Neutral                             \n",
            "2                                             Neutral                             \n",
            "8                                             Neutral                             \n",
            "9                                             Neutral                             \n",
            "10                                 Somewhat satisfied                             \n",
            "\n",
            "   How influential are online reviews or ratings in your decision-making process when choosing media content?  \\\n",
            "1                                    Very influential                                                           \n",
            "2                                Somewhat influential                                                           \n",
            "8                                Somewhat influential                                                           \n",
            "9                                Somewhat influential                                                           \n",
            "10                               Somewhat influential                                                           \n",
            "\n",
            "   Do you feel that traditional media (TV, radio, print) is being overshadowed by digital media? Why or why not?  \\\n",
            "1                                               radio                                                              \n",
            "2                                                   .                                                              \n",
            "8                                                  No                                                              \n",
            "9                                                 Yes                                                              \n",
            "10                                                Yes                                                              \n",
            "\n",
            "   Would you be willing to pay for ad-free media content if it was available?  \n",
            "1                       Maybe, depending on the price                          \n",
            "2                       Maybe, depending on the price                          \n",
            "8                                    Yes, definitely.                          \n",
            "9                 No, I prefer free content with ads.                          \n",
            "10                No, I prefer free content with ads.                          \n",
            "\n",
            "[5 rows x 21 columns]\n"
          ]
        }
      ]
    },
    {
      "cell_type": "code",
      "source": [
        "path.to_csv('cleaned_dataset.csv', index=False)"
      ],
      "metadata": {
        "id": "Lhk6iprHJrtP"
      },
      "execution_count": null,
      "outputs": []
    },
    {
      "cell_type": "code",
      "source": [
        "print(path.head())"
      ],
      "metadata": {
        "id": "f4yMkuQ9Jw7V",
        "outputId": "94f2da47-3eec-4633-ba3e-93e8b679b000",
        "colab": {
          "base_uri": "https://localhost:8080/"
        }
      },
      "execution_count": null,
      "outputs": [
        {
          "output_type": "stream",
          "name": "stdout",
          "text": [
            "                   Timestamp         Your Name                     email  \\\n",
            "1  2023-06-15 10:09:02-05:30             Ayush         asevare@gmail.com   \n",
            "2  2023-06-15 10:10:28-05:30   Rutuja bhangale   rutujabangale@gmail.com   \n",
            "8  2023-06-16 11:59:46-05:30   Sheikh hanzala     seikhhanzala@gmail.com   \n",
            "9  2023-06-16 19:23:36-05:30  Aakash Upadhyay      aakash23rbt@gmail.com   \n",
            "10 2023-06-16 19:43:33-05:30         S. Aparna  aparnasekar100@gmail.com   \n",
            "\n",
            "   What is your age  Age What is your gender  \\\n",
            "1             18-24   21                Male   \n",
            "2             18-24   21              Female   \n",
            "8             18-24   21                Male   \n",
            "9             18-24   21                Male   \n",
            "10            18-24   21              Female   \n",
            "\n",
            "   How frequently do you consume media content such as TV shows movies news podcasts etc  \\\n",
            "1                                               Daily                                      \n",
            "2                                               Daily                                      \n",
            "8                                               Daily                                      \n",
            "9                                               Daily                                      \n",
            "10                                              Daily                                      \n",
            "\n",
            "   Which media platforms do you use the most to access content  Select all that apply  \\\n",
            "1   Social media platforms (Facebook, Instagram, T...                                   \n",
            "2   Traditional TV channels;Social media platforms...                                   \n",
            "8   Traditional TV channels;Streaming services (Ne...                                   \n",
            "9   Social media platforms (Facebook, Instagram, T...                                   \n",
            "10   Streaming services (Netflix, Hulu, etc.);YouTube                                   \n",
            "\n",
            "   How do you typically discover new media content to consume  Select all that apply  \\\n",
            "1                           Online reviews or ratings                                  \n",
            "2   Recommendations from friends or family;Online ...                                  \n",
            "8   Recommendations from friends or family;Online ...                                  \n",
            "9             Social media influencers or celebrities                                  \n",
            "10  Online reviews or ratings;Social media influen...                                  \n",
            "\n",
            "   How often do you engage with advertisements or sponsored content while consuming media  \\\n",
            "1                                        Occasionally                                       \n",
            "2                                        Occasionally                                       \n",
            "8                                        Occasionally                                       \n",
            "9                                              Rarely                                       \n",
            "10                                         Frequently                                       \n",
            "\n",
            "    ...  \\\n",
            "1   ...   \n",
            "2   ...   \n",
            "8   ...   \n",
            "9   ...   \n",
            "10  ...   \n",
            "\n",
            "   Which genres of media content do you enjoy the most? (Select all that apply)\\n   \\\n",
            "1                             Comedy;Action/Adventure                                \n",
            "2   Drama;Comedy;Action/Adventure;Sci-fi/Fantasy;R...                                \n",
            "8   Drama;Comedy;Action/Adventure;Sci-fi/Fantasy;N...                                \n",
            "9            Drama;Action/Adventure;Reality TV;Sports                                \n",
            "10       Drama;Comedy;Action/Adventure;Sci-fi/Fantasy                                \n",
            "\n",
            "   Have you subscribed to any streaming or book publishing services? If yes, which ones? (Select all that apply)  \\\n",
            "1                                        Disney+;Hulu                                                              \n",
            "2                          Amazon Prime Video;Disney+                                                              \n",
            "8                  Netflix;Amazon Prime Video;Disney+                                                              \n",
            "9                          Netflix;Amazon Prime Video                                                              \n",
            "10                 Netflix;Amazon Prime Video;Disney+                                                              \n",
            "\n",
            "   How often do you engage with user-generated content (UGC) such as vlogs, podcasts, or online forums?  \\\n",
            "1                                         Once a week                                                     \n",
            "2                                Several times a week                                                     \n",
            "8                                         Once a week                                                     \n",
            "9                                              Rarely                                                     \n",
            "10                               Several times a week                                                     \n",
            "\n",
            "   Do you follow any media influencers / celebrities or  e-reading platforms or social media platforms? If yes, who are they? (Please list their names or handles)  \\\n",
            "1                                                 yes                                                                                                                \n",
            "2   YouTube - Mumbaikar Nikhil\\nGaur gopal das \\nS...                                                                                                                \n",
            "8                                                  No                                                                                                                \n",
            "9                                                  No                                                                                                                \n",
            "10                                              Yes.                                                                                                                 \n",
            "\n",
            "    \\nHow important is diversity and representation in media content to you?  \\\n",
            "1                                  Not very important                          \n",
            "2                                      Very important                          \n",
            "8                                 Extremely important                          \n",
            "9                                  Somewhat important                          \n",
            "10                                Extremely important                          \n",
            "\n",
            "   Have you ever participated in any media-related events or conventions (film festivals, comic conventions, etc.)?  \\\n",
            "1                                                 Yes                                                                 \n",
            "2                                               Maybe                                                                 \n",
            "8                                                 Yes                                                                 \n",
            "9                                                  No                                                                 \n",
            "10                                                 No                                                                 \n",
            "\n",
            "   Are you satisfied with the current state of media regulation and censorship?  \\\n",
            "1                                             Neutral                             \n",
            "2                                             Neutral                             \n",
            "8                                             Neutral                             \n",
            "9                                             Neutral                             \n",
            "10                                 Somewhat satisfied                             \n",
            "\n",
            "   How influential are online reviews or ratings in your decision-making process when choosing media content?  \\\n",
            "1                                    Very influential                                                           \n",
            "2                                Somewhat influential                                                           \n",
            "8                                Somewhat influential                                                           \n",
            "9                                Somewhat influential                                                           \n",
            "10                               Somewhat influential                                                           \n",
            "\n",
            "   Do you feel that traditional media (TV, radio, print) is being overshadowed by digital media? Why or why not?  \\\n",
            "1                                               radio                                                              \n",
            "2                                                   .                                                              \n",
            "8                                                  No                                                              \n",
            "9                                                 Yes                                                              \n",
            "10                                                Yes                                                              \n",
            "\n",
            "   Would you be willing to pay for ad-free media content if it was available?  \n",
            "1                       Maybe, depending on the price                          \n",
            "2                       Maybe, depending on the price                          \n",
            "8                                    Yes, definitely.                          \n",
            "9                 No, I prefer free content with ads.                          \n",
            "10                No, I prefer free content with ads.                          \n",
            "\n",
            "[5 rows x 21 columns]\n"
          ]
        }
      ]
    },
    {
      "cell_type": "code",
      "source": [
        "print(path.describe())"
      ],
      "metadata": {
        "colab": {
          "base_uri": "https://localhost:8080/"
        },
        "id": "bVcFEgHdetqu",
        "outputId": "c23f0e5c-0e3a-40c9-942b-fe0211bc8fa3"
      },
      "execution_count": null,
      "outputs": [
        {
          "output_type": "stream",
          "name": "stdout",
          "text": [
            "             Age\n",
            "count  30.000000\n",
            "mean   25.933333\n",
            "std     6.512234\n",
            "min    21.000000\n",
            "25%    21.000000\n",
            "50%    21.000000\n",
            "75%    29.000000\n",
            "max    40.000000\n"
          ]
        }
      ]
    },
    {
      "cell_type": "code",
      "source": [
        "total_count = path['Your Name'].count()\n",
        "total_amount = path['Age'].count()\n",
        "print(\"Total count:\", total_count)\n",
        "print(\"Total amount:\", total_amount)\n"
      ],
      "metadata": {
        "colab": {
          "base_uri": "https://localhost:8080/"
        },
        "id": "ZKZmj8gsixvp",
        "outputId": "c3bf393b-da03-4be2-aaca-c2bcd415bbcf"
      },
      "execution_count": null,
      "outputs": [
        {
          "output_type": "stream",
          "name": "stdout",
          "text": [
            "Total count: 30\n",
            "Total amount: 30\n"
          ]
        }
      ]
    },
    {
      "cell_type": "code",
      "source": [
        "email_counts = path['email'].value_counts()\n",
        "gender_amounts = path.groupby('What is your gender')['Your Name'].sum()"
      ],
      "metadata": {
        "id": "iemNVQP3jPus"
      },
      "execution_count": null,
      "outputs": []
    },
    {
      "cell_type": "code",
      "source": [
        "print(\"Email Counts:\")\n",
        "print(email_counts)\n",
        "print(\"\\nGender Amounts:\")\n",
        "print(gender_amounts)"
      ],
      "metadata": {
        "colab": {
          "base_uri": "https://localhost:8080/"
        },
        "id": "KIfP6pe6jWW4",
        "outputId": "0f22a35e-edaa-40b3-a6df-5e31777a7fc3"
      },
      "execution_count": null,
      "outputs": [
        {
          "output_type": "stream",
          "name": "stdout",
          "text": [
            "Email Counts:\n",
            "asevare@gmail.com             1\n",
            "rutujabangale@gmail.com       1\n",
            "Sakshi67@gmail.com            1\n",
            "Bhavai5432@gmail.com          1\n",
            "Singhgagandeep@gmail.com      1\n",
            "Ujwalsingh@gmail.com          1\n",
            "Svarsha@gmil.com              1\n",
            "Paras78@gmail.com             1\n",
            "Sroy@gmail.com                1\n",
            "Kalesimran456@gmail.com       1\n",
            "Khan23amir@gmail.com          1\n",
            "Kumarsonu45@gmail.com         1\n",
            "Patel3256@gmail.com           1\n",
            "Rishapsharma3000@gmail.com    1\n",
            "Ram456@gmail.com              1\n",
            "Patidar8990@gmail.com         1\n",
            "Ishika1562@gmail.com          1\n",
            "Shubha@gmail.com              1\n",
            "Shivani12@gmail.com           1\n",
            "sinharishu444@gmail.com       1\n",
            "Vartikasri222@gmail.com       1\n",
            "gabhayraj1@gmail.com          1\n",
            "ddevanshhhh@gmail.com         1\n",
            "Khushi2@gmail.com             1\n",
            "nivichaubey135@gmail.com      1\n",
            "manasigavali1999@gmail.com    1\n",
            "aparnasekar100@gmail.com      1\n",
            "aakash23rbt@gmail.com         1\n",
            "seikhhanzala@gmail.com        1\n",
            "Yadavtarun56@gmail.com        1\n",
            "Name: email, dtype: int64\n",
            "\n",
            "Gender Amounts:\n",
            "What is your gender\n",
            "Female    Rutuja bhangaleS. AparnaManasi Gavali Nivedita...\n",
            "Male      AyushSheikh hanzala Aakash Upadhyay Devansh Ve...\n",
            "Name: Your Name, dtype: object\n"
          ]
        }
      ]
    },
    {
      "cell_type": "code",
      "source": [
        "numeric_columns = ['Age']"
      ],
      "metadata": {
        "id": "ljocvImEkwcj"
      },
      "execution_count": null,
      "outputs": []
    },
    {
      "cell_type": "code",
      "source": [
        "mean = path[numeric_columns].mean()\n",
        "mode = path[numeric_columns].mode().iloc[0]\n",
        "median = path[numeric_columns].median()\n",
        "std = path[numeric_columns].std()\n"
      ],
      "metadata": {
        "id": "C5vcDmqfkzU3"
      },
      "execution_count": null,
      "outputs": []
    },
    {
      "cell_type": "code",
      "source": [
        "print(\"Mean:\")\n",
        "print(mean)\n",
        "print(\"\\nMode:\")\n",
        "print(mode)\n",
        "print(\"\\nMedian:\")\n",
        "print(median)\n",
        "print(\"\\nStandard Deviation:\")\n",
        "print(std)"
      ],
      "metadata": {
        "colab": {
          "base_uri": "https://localhost:8080/"
        },
        "id": "TyLEUhUkk_l1",
        "outputId": "c126679c-7d78-494e-aa09-7f641c5bd28e"
      },
      "execution_count": null,
      "outputs": [
        {
          "output_type": "stream",
          "name": "stdout",
          "text": [
            "Mean:\n",
            "Age    25.933333\n",
            "dtype: float64\n",
            "\n",
            "Mode:\n",
            "Age    21\n",
            "Name: 0, dtype: int64\n",
            "\n",
            "Median:\n",
            "Age    21.0\n",
            "dtype: float64\n",
            "\n",
            "Standard Deviation:\n",
            "Age    6.512234\n",
            "dtype: float64\n"
          ]
        }
      ]
    },
    {
      "cell_type": "code",
      "source": [
        "import numpy as np\n",
        "import pandas as pd\n",
        "from sklearn.cluster import KMeans\n",
        "from sklearn.preprocessing import StandardScaler\n",
        "import matplotlib.pyplot as plt"
      ],
      "metadata": {
        "id": "OL6dNT4XlIhP"
      },
      "execution_count": null,
      "outputs": []
    },
    {
      "cell_type": "code",
      "source": [
        "path = pd.read_csv('/content/Ayush-10ard.csv')"
      ],
      "metadata": {
        "id": "r58QBpu6nPOO"
      },
      "execution_count": null,
      "outputs": []
    },
    {
      "cell_type": "code",
      "source": [
        "data = pd.DataFrame({\n",
        "    'Feature1': [1, 2, 3, 10, 11, 12],\n",
        "    'Feature2': [2, 4, 6, 20, 22, 24]\n",
        "})"
      ],
      "metadata": {
        "id": "h0EZaTR0pUA1"
      },
      "execution_count": null,
      "outputs": []
    },
    {
      "cell_type": "code",
      "source": [
        "scaler = StandardScaler()\n",
        "scaled_data = scaler.fit_transform(data)"
      ],
      "metadata": {
        "id": "nEfug8x1qCh2"
      },
      "execution_count": null,
      "outputs": []
    },
    {
      "cell_type": "code",
      "source": [
        "kmeans = KMeans(n_clusters=2)  # Replace 2 with the desired number of clusters\n",
        "kmeans.fit(scaled_data)\n"
      ],
      "metadata": {
        "colab": {
          "base_uri": "https://localhost:8080/",
          "height": 106
        },
        "id": "FKSIaVXlqGRb",
        "outputId": "fced7604-defa-4814-e05f-9dcd80759979"
      },
      "execution_count": null,
      "outputs": [
        {
          "output_type": "stream",
          "name": "stderr",
          "text": [
            "/usr/local/lib/python3.10/dist-packages/sklearn/cluster/_kmeans.py:870: FutureWarning: The default value of `n_init` will change from 10 to 'auto' in 1.4. Set the value of `n_init` explicitly to suppress the warning\n",
            "  warnings.warn(\n"
          ]
        },
        {
          "output_type": "execute_result",
          "data": {
            "text/plain": [
              "KMeans(n_clusters=2)"
            ],
            "text/html": [
              "<style>#sk-container-id-1 {color: black;background-color: white;}#sk-container-id-1 pre{padding: 0;}#sk-container-id-1 div.sk-toggleable {background-color: white;}#sk-container-id-1 label.sk-toggleable__label {cursor: pointer;display: block;width: 100%;margin-bottom: 0;padding: 0.3em;box-sizing: border-box;text-align: center;}#sk-container-id-1 label.sk-toggleable__label-arrow:before {content: \"▸\";float: left;margin-right: 0.25em;color: #696969;}#sk-container-id-1 label.sk-toggleable__label-arrow:hover:before {color: black;}#sk-container-id-1 div.sk-estimator:hover label.sk-toggleable__label-arrow:before {color: black;}#sk-container-id-1 div.sk-toggleable__content {max-height: 0;max-width: 0;overflow: hidden;text-align: left;background-color: #f0f8ff;}#sk-container-id-1 div.sk-toggleable__content pre {margin: 0.2em;color: black;border-radius: 0.25em;background-color: #f0f8ff;}#sk-container-id-1 input.sk-toggleable__control:checked~div.sk-toggleable__content {max-height: 200px;max-width: 100%;overflow: auto;}#sk-container-id-1 input.sk-toggleable__control:checked~label.sk-toggleable__label-arrow:before {content: \"▾\";}#sk-container-id-1 div.sk-estimator input.sk-toggleable__control:checked~label.sk-toggleable__label {background-color: #d4ebff;}#sk-container-id-1 div.sk-label input.sk-toggleable__control:checked~label.sk-toggleable__label {background-color: #d4ebff;}#sk-container-id-1 input.sk-hidden--visually {border: 0;clip: rect(1px 1px 1px 1px);clip: rect(1px, 1px, 1px, 1px);height: 1px;margin: -1px;overflow: hidden;padding: 0;position: absolute;width: 1px;}#sk-container-id-1 div.sk-estimator {font-family: monospace;background-color: #f0f8ff;border: 1px dotted black;border-radius: 0.25em;box-sizing: border-box;margin-bottom: 0.5em;}#sk-container-id-1 div.sk-estimator:hover {background-color: #d4ebff;}#sk-container-id-1 div.sk-parallel-item::after {content: \"\";width: 100%;border-bottom: 1px solid gray;flex-grow: 1;}#sk-container-id-1 div.sk-label:hover label.sk-toggleable__label {background-color: #d4ebff;}#sk-container-id-1 div.sk-serial::before {content: \"\";position: absolute;border-left: 1px solid gray;box-sizing: border-box;top: 0;bottom: 0;left: 50%;z-index: 0;}#sk-container-id-1 div.sk-serial {display: flex;flex-direction: column;align-items: center;background-color: white;padding-right: 0.2em;padding-left: 0.2em;position: relative;}#sk-container-id-1 div.sk-item {position: relative;z-index: 1;}#sk-container-id-1 div.sk-parallel {display: flex;align-items: stretch;justify-content: center;background-color: white;position: relative;}#sk-container-id-1 div.sk-item::before, #sk-container-id-1 div.sk-parallel-item::before {content: \"\";position: absolute;border-left: 1px solid gray;box-sizing: border-box;top: 0;bottom: 0;left: 50%;z-index: -1;}#sk-container-id-1 div.sk-parallel-item {display: flex;flex-direction: column;z-index: 1;position: relative;background-color: white;}#sk-container-id-1 div.sk-parallel-item:first-child::after {align-self: flex-end;width: 50%;}#sk-container-id-1 div.sk-parallel-item:last-child::after {align-self: flex-start;width: 50%;}#sk-container-id-1 div.sk-parallel-item:only-child::after {width: 0;}#sk-container-id-1 div.sk-dashed-wrapped {border: 1px dashed gray;margin: 0 0.4em 0.5em 0.4em;box-sizing: border-box;padding-bottom: 0.4em;background-color: white;}#sk-container-id-1 div.sk-label label {font-family: monospace;font-weight: bold;display: inline-block;line-height: 1.2em;}#sk-container-id-1 div.sk-label-container {text-align: center;}#sk-container-id-1 div.sk-container {/* jupyter's `normalize.less` sets `[hidden] { display: none; }` but bootstrap.min.css set `[hidden] { display: none !important; }` so we also need the `!important` here to be able to override the default hidden behavior on the sphinx rendered scikit-learn.org. See: https://github.com/scikit-learn/scikit-learn/issues/21755 */display: inline-block !important;position: relative;}#sk-container-id-1 div.sk-text-repr-fallback {display: none;}</style><div id=\"sk-container-id-1\" class=\"sk-top-container\"><div class=\"sk-text-repr-fallback\"><pre>KMeans(n_clusters=2)</pre><b>In a Jupyter environment, please rerun this cell to show the HTML representation or trust the notebook. <br />On GitHub, the HTML representation is unable to render, please try loading this page with nbviewer.org.</b></div><div class=\"sk-container\" hidden><div class=\"sk-item\"><div class=\"sk-estimator sk-toggleable\"><input class=\"sk-toggleable__control sk-hidden--visually\" id=\"sk-estimator-id-1\" type=\"checkbox\" checked><label for=\"sk-estimator-id-1\" class=\"sk-toggleable__label sk-toggleable__label-arrow\">KMeans</label><div class=\"sk-toggleable__content\"><pre>KMeans(n_clusters=2)</pre></div></div></div></div></div>"
            ]
          },
          "metadata": {},
          "execution_count": 67
        }
      ]
    },
    {
      "cell_type": "code",
      "source": [
        "cluster_labels = kmeans.labels_\n",
        "cluster_centers = kmeans.cluster_centers_"
      ],
      "metadata": {
        "id": "FCdISE6Dqm6v"
      },
      "execution_count": null,
      "outputs": []
    },
    {
      "cell_type": "code",
      "source": [
        "plt.scatter(data['Feature1'], data['Feature2'], c=cluster_labels)\n",
        "plt.scatter(cluster_centers[:, 0], cluster_centers[:, 1], marker='x', color='red')\n",
        "plt.xlabel('Feature 1')\n",
        "plt.ylabel('Feature 2')\n",
        "plt.title('Cluster Analysis')\n",
        "plt.show()"
      ],
      "metadata": {
        "colab": {
          "base_uri": "https://localhost:8080/",
          "height": 472
        },
        "id": "ay6EH_Yrqwuv",
        "outputId": "f99f94ee-8f3d-463c-9a0f-ba83eb71243d"
      },
      "execution_count": null,
      "outputs": [
        {
          "output_type": "display_data",
          "data": {
            "text/plain": [
              "<Figure size 640x480 with 1 Axes>"
            ],
            "image/png": "[encoded data removed]"
          },
          "metadata": {}
        }
      ]
    }
  ]
}