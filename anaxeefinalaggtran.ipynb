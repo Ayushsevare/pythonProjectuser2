{
  "nbformat": 4,
  "nbformat_minor": 0,
  "metadata": {
    "colab": {
      "provenance": [],
      "authorship_tag": "ABX9TyOBFq4dt+QaekQd1pMg4KoM",
      "include_colab_link": true
    },
    "kernelspec": {
      "name": "python3",
      "display_name": "Python 3"
    },
    "language_info": {
      "name": "python"
    }
  },
  "cells": [
    {
      "cell_type": "markdown",
      "metadata": {
        "id": "view-in-github",
        "colab_type": "text"
      },
      "source": [
        "<a href=\"https://colab.research.google.com/github/Ayushsevare/pythonProjectuser2/blob/master/anaxeefinalaggtran.ipynb\" target=\"_parent\"><img src=\"https://colab.research.google.com/assets/colab-badge.svg\" alt=\"Open In Colab\"/></a>"
      ]
    },
    {
      "cell_type": "code",
      "execution_count": 1,
      "metadata": {
        "id": "lmmGM2i8ItI5"
      },
      "outputs": [],
      "source": [
        "import pandas as pd\n",
        "import numpy as np\n",
        "import sklearn"
      ]
    },
    {
      "cell_type": "code",
      "source": [
        "path = pd.read_csv('/content/final_agg_transaction.csv')"
      ],
      "metadata": {
        "id": "UVgqrIqGJG1m"
      },
      "execution_count": 3,
      "outputs": []
    },
    {
      "cell_type": "code",
      "source": [
        "print(\"Initial dataset:\")\n",
        "print(path.head())"
      ],
      "metadata": {
        "colab": {
          "base_uri": "https://localhost:8080/"
        },
        "id": "mtLzizO3KCiz",
        "outputId": "ea0d8ccb-797d-444f-bb96-3a63eb0a9c03"
      },
      "execution_count": 8,
      "outputs": [
        {
          "output_type": "stream",
          "name": "stdout",
          "text": [
            "Initial dataset:\n",
            "   Unnamed: 0                      name                      state  year  \\\n",
            "0           0  Recharge & bill payments  andaman-&-nicobar-islands  2018   \n",
            "1           1     Peer-to-peer payments  andaman-&-nicobar-islands  2018   \n",
            "2           2         Merchant payments  andaman-&-nicobar-islands  2018   \n",
            "3           3        Financial Services  andaman-&-nicobar-islands  2018   \n",
            "4           4                    Others  andaman-&-nicobar-islands  2018   \n",
            "\n",
            "   quarter  count        amount  \n",
            "0        1   4200  1.845307e+06  \n",
            "1        1   1871  1.213866e+07  \n",
            "2        1    298  4.525072e+05  \n",
            "3        1     33  1.060142e+04  \n",
            "4        1    256  1.846899e+05  \n"
          ]
        }
      ]
    },
    {
      "cell_type": "code",
      "source": [
        "print(\"Missing values:\")\n",
        "print(path.isnull().sum())"
      ],
      "metadata": {
        "colab": {
          "base_uri": "https://localhost:8080/"
        },
        "id": "o2AuFDcFKXvf",
        "outputId": "660fbeed-52f9-466b-8a60-26cc6c2ee9cd"
      },
      "execution_count": 9,
      "outputs": [
        {
          "output_type": "stream",
          "name": "stdout",
          "text": [
            "Missing values:\n",
            "Unnamed: 0    0\n",
            "name          0\n",
            "state         0\n",
            "year          0\n",
            "quarter       0\n",
            "count         0\n",
            "amount        0\n",
            "dtype: int64\n"
          ]
        }
      ]
    },
    {
      "cell_type": "code",
      "source": [
        "path = path.dropna()"
      ],
      "metadata": {
        "id": "HXdYU3XnKi8I"
      },
      "execution_count": 10,
      "outputs": []
    },
    {
      "cell_type": "code",
      "source": [
        "\n",
        "path['year'] = path['year'].astype(int)\n",
        "path['quarter'] = path['quarter'].astype(int)\n",
        "path['count'] = path['count'].astype(int)\n",
        "path['amount'] = path['amount'].astype(float)\n"
      ],
      "metadata": {
        "id": "W0JagHppLsn8"
      },
      "execution_count": 14,
      "outputs": []
    },
    {
      "cell_type": "code",
      "source": [
        "path['name'] = path['name'].str.strip()\n",
        "path['state'] = path['state'].str.strip()"
      ],
      "metadata": {
        "id": "zvAKzJg-Nv5K"
      },
      "execution_count": 15,
      "outputs": []
    },
    {
      "cell_type": "code",
      "source": [
        "print(\"Cleaned dataset:\")\n",
        "print(path.head())"
      ],
      "metadata": {
        "colab": {
          "base_uri": "https://localhost:8080/"
        },
        "id": "JHhyHsUAN-y9",
        "outputId": "a065e4c9-c7dd-4d79-a24a-80b529faf8c3"
      },
      "execution_count": 16,
      "outputs": [
        {
          "output_type": "stream",
          "name": "stdout",
          "text": [
            "Cleaned dataset:\n",
            "   Unnamed: 0                      name                      state  year  \\\n",
            "0           0  Recharge & bill payments  andaman-&-nicobar-islands  2018   \n",
            "1           1     Peer-to-peer payments  andaman-&-nicobar-islands  2018   \n",
            "2           2         Merchant payments  andaman-&-nicobar-islands  2018   \n",
            "3           3        Financial Services  andaman-&-nicobar-islands  2018   \n",
            "4           4                    Others  andaman-&-nicobar-islands  2018   \n",
            "\n",
            "   quarter  count        amount  \n",
            "0        1   4200  1.845307e+06  \n",
            "1        1   1871  1.213866e+07  \n",
            "2        1    298  4.525072e+05  \n",
            "3        1     33  1.060142e+04  \n",
            "4        1    256  1.846899e+05  \n"
          ]
        }
      ]
    },
    {
      "cell_type": "code",
      "source": [
        "path.to_csv('cleaned_dataset.csv', index=False)"
      ],
      "metadata": {
        "id": "zBcqS8xdONV2"
      },
      "execution_count": 17,
      "outputs": []
    },
    {
      "cell_type": "code",
      "source": [
        "print(path.head())"
      ],
      "metadata": {
        "colab": {
          "base_uri": "https://localhost:8080/"
        },
        "id": "Mt2b1NysOfMZ",
        "outputId": "1a78097c-0f43-4f38-fa42-ecf409b856fd"
      },
      "execution_count": 18,
      "outputs": [
        {
          "output_type": "stream",
          "name": "stdout",
          "text": [
            "   Unnamed: 0                      name                      state  year  \\\n",
            "0           0  Recharge & bill payments  andaman-&-nicobar-islands  2018   \n",
            "1           1     Peer-to-peer payments  andaman-&-nicobar-islands  2018   \n",
            "2           2         Merchant payments  andaman-&-nicobar-islands  2018   \n",
            "3           3        Financial Services  andaman-&-nicobar-islands  2018   \n",
            "4           4                    Others  andaman-&-nicobar-islands  2018   \n",
            "\n",
            "   quarter  count        amount  \n",
            "0        1   4200  1.845307e+06  \n",
            "1        1   1871  1.213866e+07  \n",
            "2        1    298  4.525072e+05  \n",
            "3        1     33  1.060142e+04  \n",
            "4        1    256  1.846899e+05  \n"
          ]
        }
      ]
    },
    {
      "cell_type": "code",
      "source": [
        "print(path.describe())"
      ],
      "metadata": {
        "colab": {
          "base_uri": "https://localhost:8080/"
        },
        "id": "olE1QnN9Ozny",
        "outputId": "8f7a32c8-a6bc-4cf9-c8ff-92de8ebc8e34"
      },
      "execution_count": 19,
      "outputs": [
        {
          "output_type": "stream",
          "name": "stdout",
          "text": [
            "        Unnamed: 0         year      quarter         count        amount\n",
            "count  3054.000000  3054.000000  3054.000000  3.054000e+03  3.054000e+03\n",
            "mean   1526.500000  2019.648657     2.412901  1.310269e+07  2.304493e+10\n",
            "std     881.758187     1.234403     1.140955  4.353705e+07  9.757371e+10\n",
            "min       0.000000  2018.000000     1.000000  2.000000e+00  3.439721e+01\n",
            "25%     763.250000  2019.000000     1.000000  3.513675e+04  2.232801e+07\n",
            "50%    1526.500000  2020.000000     2.000000  3.180430e+05  2.432797e+08\n",
            "75%    2289.750000  2021.000000     3.000000  5.000162e+06  4.061436e+09\n",
            "max    3053.000000  2022.000000     4.000000  6.462777e+08  1.375290e+12\n"
          ]
        }
      ]
    },
    {
      "cell_type": "code",
      "source": [
        "total_count = path['count'].sum()\n",
        "total_amount = path['amount'].sum()\n",
        "print(\"Total count:\", total_count)\n",
        "print(\"Total amount:\", total_amount)"
      ],
      "metadata": {
        "colab": {
          "base_uri": "https://localhost:8080/"
        },
        "id": "BN5LqDpJPdj0",
        "outputId": "226f896b-da84-4764-dd57-7579ac4276b3"
      },
      "execution_count": 20,
      "outputs": [
        {
          "output_type": "stream",
          "name": "stdout",
          "text": [
            "Total count: 40015613546\n",
            "Total amount: 70379225674362.56\n"
          ]
        }
      ]
    },
    {
      "cell_type": "code",
      "source": [
        "state_counts = path['state'].value_counts()\n",
        "state_amounts = path.groupby('state')['amount'].sum()\n",
        "\n"
      ],
      "metadata": {
        "id": "Zrt7C7_gPxcy"
      },
      "execution_count": 22,
      "outputs": []
    },
    {
      "cell_type": "code",
      "source": [
        "print(\"Counts by state:\")\n",
        "print(state_counts)\n",
        "\n"
      ],
      "metadata": {
        "colab": {
          "base_uri": "https://localhost:8080/"
        },
        "id": "dnedx2KeP7L4",
        "outputId": "e4c077df-2c41-4efe-ae8a-fe284aa7db25"
      },
      "execution_count": 23,
      "outputs": [
        {
          "output_type": "stream",
          "name": "stdout",
          "text": [
            "Counts by state:\n",
            "andaman-&-nicobar-islands             85\n",
            "andhra-pradesh                        85\n",
            "maharashtra                           85\n",
            "manipur                               85\n",
            "meghalaya                             85\n",
            "mizoram                               85\n",
            "nagaland                              85\n",
            "odisha                                85\n",
            "puducherry                            85\n",
            "punjab                                85\n",
            "rajasthan                             85\n",
            "sikkim                                85\n",
            "tamil-nadu                            85\n",
            "telangana                             85\n",
            "tripura                               85\n",
            "uttar-pradesh                         85\n",
            "uttarakhand                           85\n",
            "madhya-pradesh                        85\n",
            "west-bengal                           85\n",
            "ladakh                                85\n",
            "delhi                                 85\n",
            "arunachal-pradesh                     85\n",
            "assam                                 85\n",
            "bihar                                 85\n",
            "chandigarh                            85\n",
            "chhattisgarh                          85\n",
            "dadra-&-nagar-haveli-&-daman-&-diu    85\n",
            "goa                                   85\n",
            "kerala                                85\n",
            "gujarat                               85\n",
            "haryana                               85\n",
            "himachal-pradesh                      85\n",
            "jammu-&-kashmir                       85\n",
            "jharkhand                             85\n",
            "karnataka                             85\n",
            "lakshadweep                           79\n",
            "Name: state, dtype: int64\n"
          ]
        }
      ]
    },
    {
      "cell_type": "code",
      "source": [
        "print(\"Amounts by state:\")\n",
        "print(state_amounts)"
      ],
      "metadata": {
        "colab": {
          "base_uri": "https://localhost:8080/"
        },
        "id": "BqlhHe25QCrz",
        "outputId": "aa492ee5-1212-4244-fd3c-fe9a33a37c29"
      },
      "execution_count": 24,
      "outputs": [
        {
          "output_type": "stream",
          "name": "stdout",
          "text": [
            "Amounts by state:\n",
            "state\n",
            "andaman-&-nicobar-islands             9.013483e+09\n",
            "andhra-pradesh                        7.295095e+12\n",
            "arunachal-pradesh                     4.270156e+10\n",
            "assam                                 5.935746e+11\n",
            "bihar                                 3.167425e+12\n",
            "chandigarh                            9.507654e+10\n",
            "chhattisgarh                          8.144876e+11\n",
            "dadra-&-nagar-haveli-&-daman-&-diu    3.476761e+10\n",
            "delhi                                 3.059461e+12\n",
            "goa                                   9.319400e+10\n",
            "gujarat                               2.112884e+12\n",
            "haryana                               1.951203e+12\n",
            "himachal-pradesh                      1.718304e+11\n",
            "jammu-&-kashmir                       2.131680e+11\n",
            "jharkhand                             9.731785e+11\n",
            "karnataka                             8.436751e+12\n",
            "kerala                                7.379771e+11\n",
            "ladakh                                1.299954e+10\n",
            "lakshadweep                           3.368995e+08\n",
            "madhya-pradesh                        3.824066e+12\n",
            "maharashtra                           8.607010e+12\n",
            "manipur                               7.300309e+10\n",
            "meghalaya                             2.382173e+10\n",
            "mizoram                               1.150671e+10\n",
            "nagaland                              3.085903e+10\n",
            "odisha                                2.360874e+12\n",
            "puducherry                            6.333479e+10\n",
            "punjab                                7.092700e+11\n",
            "rajasthan                             5.262080e+12\n",
            "sikkim                                2.570910e+10\n",
            "tamil-nadu                            2.803169e+12\n",
            "telangana                             8.886931e+12\n",
            "tripura                               3.707891e+10\n",
            "uttar-pradesh                         4.613852e+12\n",
            "uttarakhand                           4.027259e+11\n",
            "west-bengal                           2.828809e+12\n",
            "Name: amount, dtype: float64\n"
          ]
        }
      ]
    }
  ]
}