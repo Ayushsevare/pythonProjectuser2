{
  "nbformat": 4,
  "nbformat_minor": 0,
  "metadata": {
    "colab": {
      "provenance": [],
      "authorship_tag": "ABX9TyPfyvQim4a3BL8gf701Qj53",
      "include_colab_link": true
    },
    "kernelspec": {
      "name": "python3",
      "display_name": "Python 3"
    },
    "language_info": {
      "name": "python"
    }
  },
  "cells": [
    {
      "cell_type": "markdown",
      "metadata": {
        "id": "view-in-github",
        "colab_type": "text"
      },
      "source": [
        "<a href=\"https://colab.research.google.com/github/Ayushsevare/pythonProjectuser2/blob/master/Tenhardtimeseries.ipynb\" target=\"_parent\"><img src=\"https://colab.research.google.com/assets/colab-badge.svg\" alt=\"Open In Colab\"/></a>"
      ]
    },
    {
      "cell_type": "code",
      "execution_count": null,
      "metadata": {
        "id": "U7geVbTJhNlD"
      },
      "outputs": [],
      "source": [
        "import pandas as pd\n",
        "import numpy as np\n",
        "import statsmodels.api as sm\n"
      ]
    },
    {
      "cell_type": "code",
      "source": [
        "path=pd.read_csv('/content/Ayush-10ard.csv')"
      ],
      "metadata": {
        "id": "an7L9YC8qA5S"
      },
      "execution_count": null,
      "outputs": []
    },
    {
      "cell_type": "code",
      "source": [
        "path[\"Timestamp\"] = pd.to_datetime(path[\"Timestamp\"])"
      ],
      "metadata": {
        "id": "M0BSi3XlqehS"
      },
      "execution_count": null,
      "outputs": []
    },
    {
      "cell_type": "code",
      "source": [
        "path.set_index(\"Timestamp\", inplace=True)"
      ],
      "metadata": {
        "id": "eMl1zOFTq3we"
      },
      "execution_count": null,
      "outputs": []
    },
    {
      "cell_type": "code",
      "source": [
        "your_name_series = path[\"Age\"]"
      ],
      "metadata": {
        "id": "6rsmcq4HqerD"
      },
      "execution_count": null,
      "outputs": []
    },
    {
      "cell_type": "code",
      "source": [
        "model = sm.tsa.ARIMA(your_name_series, order=(1, 0, 0))  # Example ARIMA(1, 0, 0) model\n",
        "results = model.fit()"
      ],
      "metadata": {
        "colab": {
          "base_uri": "https://localhost:8080/"
        },
        "id": "YmMjK7C5vb3Q",
        "outputId": "68a08b0b-e50c-4e3b-ba9f-344c428af1f8"
      },
      "execution_count": null,
      "outputs": [
        {
          "output_type": "stream",
          "name": "stderr",
          "text": [
            "/usr/local/lib/python3.10/dist-packages/statsmodels/tsa/base/tsa_model.py:471: ValueWarning: A date index has been provided, but it has no associated frequency information and so will be ignored when e.g. forecasting.\n",
            "  self._init_dates(dates, freq)\n",
            "/usr/local/lib/python3.10/dist-packages/statsmodels/tsa/base/tsa_model.py:471: ValueWarning: A date index has been provided, but it has no associated frequency information and so will be ignored when e.g. forecasting.\n",
            "  self._init_dates(dates, freq)\n",
            "/usr/local/lib/python3.10/dist-packages/statsmodels/tsa/base/tsa_model.py:471: ValueWarning: A date index has been provided, but it has no associated frequency information and so will be ignored when e.g. forecasting.\n",
            "  self._init_dates(dates, freq)\n"
          ]
        }
      ]
    },
    {
      "cell_type": "code",
      "source": [
        "print(results.summary())"
      ],
      "metadata": {
        "colab": {
          "base_uri": "https://localhost:8080/"
        },
        "id": "4sYxWZ0Ey_n7",
        "outputId": "e880bda5-1f71-4fa8-f8ea-e49aaf9bbcd5"
      },
      "execution_count": null,
      "outputs": [
        {
          "output_type": "stream",
          "name": "stdout",
          "text": [
            "                               SARIMAX Results                                \n",
            "==============================================================================\n",
            "Dep. Variable:                    Age   No. Observations:                   55\n",
            "Model:                 ARIMA(1, 0, 0)   Log Likelihood                -171.858\n",
            "Date:                Fri, 23 Jun 2023   AIC                            349.716\n",
            "Time:                        10:28:20   BIC                            355.738\n",
            "Sample:                             0   HQIC                           352.045\n",
            "                                 - 55                                         \n",
            "Covariance Type:                  opg                                         \n",
            "==============================================================================\n",
            "                 coef    std err          z      P>|z|      [0.025      0.975]\n",
            "------------------------------------------------------------------------------\n",
            "const         25.5162      1.319     19.341      0.000      22.930      28.102\n",
            "ar.L1          0.1443      0.128      1.130      0.259      -0.106       0.395\n",
            "sigma2        34.0035      9.032      3.765      0.000      16.301      51.706\n",
            "===================================================================================\n",
            "Ljung-Box (L1) (Q):                   0.14   Jarque-Bera (JB):                10.07\n",
            "Prob(Q):                              0.70   Prob(JB):                         0.01\n",
            "Heteroskedasticity (H):               1.39   Skew:                             1.04\n",
            "Prob(H) (two-sided):                  0.49   Kurtosis:                         3.21\n",
            "===================================================================================\n",
            "\n",
            "Warnings:\n",
            "[1] Covariance matrix calculated using the outer product of gradients (complex-step).\n"
          ]
        }
      ]
    }
  ]
}